{
 "cells": [
  {
   "cell_type": "code",
   "execution_count": 1,
   "metadata": {},
   "outputs": [
    {
     "name": "stderr",
     "output_type": "stream",
     "text": [
      "C:\\Users\\kb\\AppData\\Local\\Temp\\ipykernel_23528\\3475752379.py:5: DtypeWarning: Columns (26) have mixed types. Specify dtype option on import or set low_memory=False.\n",
      "  train = pd.read_csv('train.csv')\n"
     ]
    }
   ],
   "source": [
    "# lets load the data from train.csv and test.csv files\n",
    "import pandas as pd\n",
    "import numpy as np\n",
    "\n",
    "train = pd.read_csv('train.csv')\n",
    "test = pd.read_csv('test.csv')\n"
   ]
  },
  {
   "cell_type": "code",
   "execution_count": 2,
   "metadata": {},
   "outputs": [
    {
     "name": "stdout",
     "output_type": "stream",
     "text": [
      "<class 'pandas.core.frame.DataFrame'>\n",
      "RangeIndex: 100000 entries, 0 to 99999\n",
      "Data columns (total 28 columns):\n",
      " #   Column                    Non-Null Count   Dtype  \n",
      "---  ------                    --------------   -----  \n",
      " 0   ID                        100000 non-null  object \n",
      " 1   Customer_ID               100000 non-null  object \n",
      " 2   Month                     100000 non-null  object \n",
      " 3   Name                      90015 non-null   object \n",
      " 4   Age                       100000 non-null  object \n",
      " 5   SSN                       100000 non-null  object \n",
      " 6   Occupation                100000 non-null  object \n",
      " 7   Annual_Income             100000 non-null  object \n",
      " 8   Monthly_Inhand_Salary     84998 non-null   float64\n",
      " 9   Num_Bank_Accounts         100000 non-null  int64  \n",
      " 10  Num_Credit_Card           100000 non-null  int64  \n",
      " 11  Interest_Rate             100000 non-null  int64  \n",
      " 12  Num_of_Loan               100000 non-null  object \n",
      " 13  Type_of_Loan              88592 non-null   object \n",
      " 14  Delay_from_due_date       100000 non-null  int64  \n",
      " 15  Num_of_Delayed_Payment    92998 non-null   object \n",
      " 16  Changed_Credit_Limit      100000 non-null  object \n",
      " 17  Num_Credit_Inquiries      98035 non-null   float64\n",
      " 18  Credit_Mix                100000 non-null  object \n",
      " 19  Outstanding_Debt          100000 non-null  object \n",
      " 20  Credit_Utilization_Ratio  100000 non-null  float64\n",
      " 21  Credit_History_Age        90970 non-null   object \n",
      " 22  Payment_of_Min_Amount     100000 non-null  object \n",
      " 23  Total_EMI_per_month       100000 non-null  float64\n",
      " 24  Amount_invested_monthly   95521 non-null   object \n",
      " 25  Payment_Behaviour         100000 non-null  object \n",
      " 26  Monthly_Balance           98800 non-null   object \n",
      " 27  Credit_Score              100000 non-null  object \n",
      "dtypes: float64(4), int64(4), object(20)\n",
      "memory usage: 21.4+ MB\n"
     ]
    }
   ],
   "source": [
    "train.info()"
   ]
  },
  {
   "cell_type": "code",
   "execution_count": 3,
   "metadata": {},
   "outputs": [],
   "source": [
    "from sklearn.base import BaseEstimator, TransformerMixin\n",
    "import pandas as pd\n",
    "\n",
    "class NumericCleaner(BaseEstimator, TransformerMixin):\n",
    "   def __init__(self):\n",
    "      self.columns_to_clean =  ['Age', 'Annual_Income', 'Num_of_Loan', 'Num_of_Delayed_Payment',\n",
    "       'Changed_Credit_Limit', 'Outstanding_Debt', 'Amount_invested_monthly', 'Monthly_Balance']\n",
    "\n",
    "   def fit(self, X, y=None):\n",
    "      # No fitting necessary for this transformer\n",
    "      return self\n",
    "\n",
    "   def transform(self, X):\n",
    "      # Make a copy of the DataFrame to avoid modifying the original data\n",
    "      X = X.copy()\n",
    "            \n",
    "      # Apply cleaning function to each specified column\n",
    "      for column in self.columns_to_clean:\n",
    "         X[column] = pd.to_numeric(X[column].str.replace(r'[^0-9.-]', '', regex=True), errors='coerce')\n",
    "\n",
    "        \n",
    "      return X"
   ]
  },
  {
   "cell_type": "code",
   "execution_count": 4,
   "metadata": {},
   "outputs": [],
   "source": [
    "columns_to_clean = [\n",
    "    'Age', 'Annual_Income', 'Num_of_Loan', 'Num_of_Delayed_Payment',\n",
    "    'Changed_Credit_Limit', 'Outstanding_Debt', 'Amount_invested_monthly', 'Monthly_Balance'\n",
    "]\n",
    "# Create an instance of the transformer\n",
    "numeric_cleaner = NumericCleaner()\n",
    "\n",
    "train= numeric_cleaner.fit_transform(train)\n",
    "\n"
   ]
  },
  {
   "cell_type": "code",
   "execution_count": 5,
   "metadata": {},
   "outputs": [],
   "source": [
    "hi_lo_bounds = {\n",
    "    # Numerical Columns\n",
    "    'Age': {'lo': 0, 'hi': 100},\n",
    "    'Annual_Income': {'lo': 5000, 'hi': 500000},\n",
    "    'Monthly_Inhand_Salary': {'lo': 500, 'hi': 30000},\n",
    "    'Num_Bank_Accounts': {'lo': 0, 'hi': 20},\n",
    "    'Num_Credit_Card': {'lo': 0, 'hi': 15},\n",
    "    'Interest_Rate': {'lo': 0, 'hi': 50},\n",
    "    'Delay_from_due_date': {'lo': 0, 'hi': 100},\n",
    "    'Num_Credit_Inquiries': {'lo': 0, 'hi': 30},\n",
    "    'Changed_Credit_Limit': {'lo': 0, 'hi': 30},  # Bounds after converting to numeric\n",
    "    'Num_of_Loan': {'lo': 0, 'hi': 10},  # Bounds after converting to numeric\n",
    "    \n",
    "    # Categorical Columns (ordered)\n",
    "    'Credit_Mix': {'lo': 0, 'hi': 2},  # Assuming \"Bad\" = 0, \"Standard\" = 1, \"Good\" = 2\n",
    "\n",
    "    # Categorical Column (nominal)\n",
    "    'Occupation': {'lo': 0, 'hi': 14}  # No bounds, only impute missing values\n",
    "}\n"
   ]
  },
  {
   "cell_type": "code",
   "execution_count": 6,
   "metadata": {},
   "outputs": [],
   "source": [
    "from sklearn.base import BaseEstimator, TransformerMixin\n",
    "from sklearn.preprocessing import MultiLabelBinarizer\n",
    "from sklearn.utils.validation import check_is_fitted\n",
    "import pandas as pd\n",
    "\n",
    "class CreditHistoryTransformer(BaseEstimator, TransformerMixin):\n",
    "   def __init__(self):\n",
    "      self.column = 'Credit_History_Age'\n",
    "        \n",
    "\n",
    "   def fit(self, X, y=None): \n",
    "      assert isinstance(X, pd.DataFrame) and self.column in X.columns\n",
    "      #set number of features\n",
    "      self._n_features = X.shape[1]\n",
    "      return self\n",
    "   \n",
    "   def transform(self, X):\n",
    "      check_is_fitted(self, '_n_features')\n",
    "      assert isinstance(X, pd.DataFrame) and self.column in X.columns   \n",
    "      #now lets transformt the data \n",
    "      # we need to convert the verbal description to numerical values\n",
    "      # it's in this form '22 Years and 1 Months'\n",
    "      # first we change the column to string type \n",
    "      #tthen process the string to get the numerical values\n",
    "      # then multiply the years by 12 and add the months\n",
    "      X[self.column] = X[self.column].astype(str)\n",
    "\n",
    "      years = X[self.column].str.extract(r'(\\d+)\\s*Years?')[0].fillna(0).astype(int)\n",
    "      months = X[self.column].str.extract(r'(\\d+)\\s*Months?')[0].fillna(0).astype(int)\n",
    "\n",
    "    # Calculate total months\n",
    "      X[self.column] = years * 12 + months\n",
    "      return X\n",
    "\n",
    "      \n",
    "\n",
    "   \n",
    "     \n"
   ]
  },
  {
   "cell_type": "code",
   "execution_count": 7,
   "metadata": {},
   "outputs": [],
   "source": [
    "creditHistory = CreditHistoryTransformer()\n",
    "creditHistory.fit(train)\n",
    "traim = creditHistory.transform(train)\n"
   ]
  },
  {
   "cell_type": "code",
   "execution_count": 8,
   "metadata": {},
   "outputs": [],
   "source": [
    "from sklearn.base import BaseEstimator, TransformerMixin\n",
    "from sklearn.preprocessing import MultiLabelBinarizer\n",
    "from sklearn.utils.validation import check_is_fitted\n",
    "import pandas as pd\n",
    "\n",
    "class PaymentBehaviourTransformer(BaseEstimator, TransformerMixin):\n",
    "   def __init__(self):\n",
    "      self.charge_mapping = {'Low_spent': 0, 'Medium_spent': 1, 'High_spent': 2}\n",
    "      self.payment_mapping = {'Small_value_payments': 0, 'Medium_value_payments': 1, 'Large_value_payments': 2}\n",
    "      self.columns = 'Payment_Behaviour'\n",
    "\n",
    "   def fit(self, X, y=None):\n",
    "      assert isinstance(X, pd.DataFrame)\n",
    "      'Payment_Behaviour' in X.columns\n",
    "\n",
    "      return self\n",
    "   \n",
    "   def transform(self, X):\n",
    "      charge, payment = X['Payment_Behaviour'].apply(self.split_payment_behavior)\n",
    "      X['Charge'] = charge\n",
    "      X['Payment'] = payment\n",
    "      X.drop('Payment_Behaviour', axis=1, inplace=True)\n",
    "      return X\n",
    "   \n",
    "   def split_payment_behavior(self, value):\n",
    "      if isinstance(value, str):\n",
    "         # Split the value into components based on the underscore\n",
    "         parts = value.split('_')\n",
    "         \n",
    "         # The first part corresponds to charge, and the last two parts correspond to payment\n",
    "         charge_part = '_'.join(parts[:2])  # Join the first two parts for charge\n",
    "         payment_part = '_'.join(parts[2:])  # Join the rest for payment\n",
    "         \n",
    "         # Get the corresponding numerical values from the mappings\n",
    "         charge_value = self.charge_mapping.get(charge_part, np.nan)\n",
    "         payment_value = self.payment_mapping.get(payment_part, np.nan)\n",
    "         \n",
    "         return pd.Series([charge_value, payment_value])\n",
    "      else:\n",
    "         return pd.Series([np.nan, np.nan])  # Return NaN for non-string values\n",
    "\n",
    "   # Assuming X is your DataFrame\n",
    "\n",
    "\n",
    "           "
   ]
  },
  {
   "cell_type": "code",
   "execution_count": 9,
   "metadata": {},
   "outputs": [],
   "source": [
    "PaymentBehaviourTransformer  = PaymentBehaviourTransformer()\n",
    "PaymentBehaviourTransformer.fit(train)\n",
    "train= PaymentBehaviourTransformer.transform(train)"
   ]
  },
  {
   "cell_type": "code",
   "execution_count": 10,
   "metadata": {},
   "outputs": [],
   "source": [
    "from sklearn.base import BaseEstimator, TransformerMixin\n",
    "from sklearn.preprocessing import MultiLabelBinarizer\n",
    "from sklearn.utils.validation import check_is_fitted\n",
    "import pandas as pd\n",
    "\n",
    "class LoanType(BaseEstimator, TransformerMixin):\n",
    "    def __init__(self):\n",
    "        self.ml_binarizer = MultiLabelBinarizer()\n",
    "\n",
    "    def fit(self, X, y=None):\n",
    "        assert isinstance(X, pd.DataFrame) and 'Type_of_Loan' in X.columns\n",
    "        # Ensure the column is treated as a string and handle NaN values\n",
    "        loan_types = X['Type_of_Loan'].fillna('Not Specified').astype(str).str.split(', ')\n",
    "        # Clean up the loan types to remove unwanted phrases\n",
    "        loan_types = loan_types.apply(lambda x: [item.strip() for item in x if 'and' not in item])\n",
    "        self.ml_binarizer.fit(loan_types)      \n",
    "        self._n_features = len(self.ml_binarizer.classes_)\n",
    "        return self \n",
    "\n",
    "    def transform(self, X):\n",
    "        # Check if the transformer has been fitted\n",
    "        check_is_fitted(self, '_n_features')\n",
    "        assert isinstance(X, pd.DataFrame) and 'Type_of_Loan' in X.columns\n",
    "        # Ensure the column is treated as a string and handle NaN values\n",
    "        loan_types = X['Type_of_Loan'].fillna('Not Specified').astype(str).str.split(', ')\n",
    "        # Clean up the loan types to remove unwanted phrases\n",
    "        loan_types = loan_types.apply(lambda x: [item.strip() for item in x if 'and' not in item])\n",
    "        loan_type_dummies = self.ml_binarizer.transform(loan_types)\n",
    "        \n",
    "        # Create a DataFrame for the binary columns\n",
    "        loan_type_df = pd.DataFrame(loan_type_dummies, columns=self.ml_binarizer.classes_, index=X.index)\n",
    "        \n",
    "        # Concatenate the new binary columns with the original DataFrame\n",
    "        X = pd.concat([X, loan_type_df], axis=1)\n",
    "        X.drop('Type_of_Loan', axis=1, inplace=True)\n",
    "        return X\n",
    "\n"
   ]
  },
  {
   "cell_type": "code",
   "execution_count": 11,
   "metadata": {},
   "outputs": [
    {
     "name": "stdout",
     "output_type": "stream",
     "text": [
      "<class 'pandas.core.series.Series'>\n",
      "RangeIndex: 100000 entries, 0 to 99999\n",
      "Series name: Type_of_Loan\n",
      "Non-Null Count  Dtype \n",
      "--------------  ----- \n",
      "88592 non-null  object\n",
      "dtypes: object(1)\n",
      "memory usage: 781.4+ KB\n"
     ]
    }
   ],
   "source": [
    "train['Type_of_Loan'].info()\n",
    "\n"
   ]
  },
  {
   "cell_type": "code",
   "execution_count": 12,
   "metadata": {},
   "outputs": [],
   "source": [
    "Loan = LoanType()\n",
    "Loan.fit(train)\n",
    "train=Loan.transform(train)\n"
   ]
  },
  {
   "cell_type": "code",
   "execution_count": 13,
   "metadata": {},
   "outputs": [],
   "source": [
    "from numpy import NAN\n",
    "import pandas as pd\n",
    "import numpy as np\n",
    "from sklearn.base import BaseEstimator, TransformerMixin\n",
    "from sklearn.utils.validation import check_is_fitted\n",
    "\n",
    "class HiLoImputer(BaseEstimator, TransformerMixin):\n",
    "    def __init__(self, lo, hi, columnName):\n",
    "        self.hi = hi\n",
    "        self.lo = lo\n",
    "        self.columnName = columnName\n",
    "        self.isCategory = False\n",
    "\n",
    "    def fit(self, X, y=None):\n",
    "        assert isinstance(X, pd.DataFrame) and len(X.columns) > 1\n",
    "        assert self.columnName in X.columns\n",
    "        \n",
    "        # Check if the column is categorical\n",
    "        self.isCategory = X[self.columnName].dtype.name == 'object' or X[self.columnName].dtype.name == 'category'\n",
    "        if self.isCategory:\n",
    "            #convert to category\n",
    "\n",
    "            self.categories_ = X[self.columnName].astype('category').cat.categories\n",
    "\n",
    "        # Store the number of features\n",
    "        self._n_features = X.shape[1]\n",
    "        return self\n",
    "\n",
    "    def transform(self, X):\n",
    "        check_is_fitted(self, '_n_features')\n",
    "        assert isinstance(X, pd.DataFrame) and X.shape[1] == self._n_features\n",
    "\n",
    "        if self.isCategory:\n",
    "            # Convert categories to codes for hi/lo processing\n",
    "            X[self.columnName] = X[self.columnName].astype('category').cat.codes\n",
    "\n",
    "            # Apply hi/lo bounds, setting out-of-bounds to NaN\n",
    "            X[self.columnName] = np.where(\n",
    "                (X[self.columnName] > self.hi) | (X[self.columnName] < self.lo), \n",
    "                np.nan, X[self.columnName]\n",
    "            )\n",
    "            \n",
    "            # Replace NaN values with the mode per Customer_ID group\n",
    "            X[self.columnName] = X.groupby('Customer_ID', group_keys=False)[self.columnName].apply(\n",
    "                lambda x: x.fillna(x.mode().iloc[0] if not x.mode().empty else x)\n",
    "            )\n",
    "\n",
    "            # Convert back to categories\n",
    "            X[self.columnName] = pd.Categorical.from_codes(\n",
    "                X[self.columnName].fillna(-1).astype(int), categories=self.categories_, ordered=True\n",
    "            ).remove_unused_categories()\n",
    "            X[self.columnName] = X[self.columnName].astype('category')\n",
    "\n",
    "        else:\n",
    "            # Apply hi/lo bounds for numerical data\n",
    "            X[self.columnName] = np.where(\n",
    "                (X[self.columnName] > self.hi) | (X[self.columnName] < self.lo), \n",
    "                np.nan, X[self.columnName]\n",
    "            )\n",
    "\n",
    "            # Replace NaN values with the mode per Customer_ID group\n",
    "            X[self.columnName] = X.groupby('Customer_ID', group_keys=False)[self.columnName].apply(\n",
    "                lambda x: x.fillna(x.mode().iloc[0] if not x.mode().empty else x)\n",
    "            )\n",
    "\n",
    "        return X\n"
   ]
  },
  {
   "cell_type": "code",
   "execution_count": 14,
   "metadata": {},
   "outputs": [
    {
     "data": {
      "text/plain": [
       "Occupation\n",
       "_______          7062\n",
       "Lawyer           6575\n",
       "Architect        6355\n",
       "Engineer         6350\n",
       "Scientist        6299\n",
       "Mechanic         6291\n",
       "Accountant       6271\n",
       "Developer        6235\n",
       "Media_Manager    6232\n",
       "Teacher          6215\n",
       "Entrepreneur     6174\n",
       "Doctor           6087\n",
       "Journalist       6085\n",
       "Manager          5973\n",
       "Musician         5911\n",
       "Writer           5885\n",
       "Name: count, dtype: int64"
      ]
     },
     "execution_count": 14,
     "metadata": {},
     "output_type": "execute_result"
    }
   ],
   "source": [
    "train['Occupation'].value_counts()"
   ]
  },
  {
   "cell_type": "code",
   "execution_count": 15,
   "metadata": {},
   "outputs": [
    {
     "name": "stdout",
     "output_type": "stream",
     "text": [
      "ID                               0x1638\n",
      "Customer_ID                  CUS_0x1cdb\n",
      "Month                              July\n",
      "Name                             Deepaa\n",
      "Age                                  21\n",
      "SSN                         615-06-7821\n",
      "Occupation                    Developer\n",
      "Annual_Income                  35547.71\n",
      "Monthly_Inhand_Salary       2853.309167\n",
      "Num_Bank_Accounts                     7\n",
      "Num_Credit_Card                       5\n",
      "Interest_Rate                         5\n",
      "Num_of_Loan                           0\n",
      "Delay_from_due_date                  10\n",
      "Num_of_Delayed_Payment             15.0\n",
      "Changed_Credit_Limit               2.58\n",
      "Num_Credit_Inquiries                4.0\n",
      "Credit_Mix                     Standard\n",
      "Outstanding_Debt                 943.86\n",
      "Credit_Utilization_Ratio      26.263823\n",
      "Credit_History_Age                  374\n",
      "Payment_of_Min_Amount               Yes\n",
      "Total_EMI_per_month                 0.0\n",
      "Amount_invested_monthly      181.011983\n",
      "Monthly_Balance              394.318934\n",
      "Credit_Score                   Standard\n",
      "Charge                                0\n",
      "Payment                               1\n",
      "Auto Loan                             0\n",
      "Credit-Builder Loan                   0\n",
      "Debt Consolidation Loan               0\n",
      "Home Equity Loan                      0\n",
      "Mortgage Loan                         0\n",
      "Not Specified                         1\n",
      "Payday Loan                           0\n",
      "Personal Loan                         0\n",
      "Student Loan                          0\n",
      "Name: 38, dtype: object\n"
     ]
    }
   ],
   "source": [
    "\n",
    "# print row 31 \n",
    "print(train.loc[38])"
   ]
  },
  {
   "cell_type": "code",
   "execution_count": 16,
   "metadata": {},
   "outputs": [
    {
     "name": "stdout",
     "output_type": "stream",
     "text": [
      "<class 'pandas.core.frame.DataFrame'>\n",
      "RangeIndex: 100000 entries, 0 to 99999\n",
      "Data columns (total 37 columns):\n",
      " #   Column                    Non-Null Count   Dtype  \n",
      "---  ------                    --------------   -----  \n",
      " 0   ID                        100000 non-null  object \n",
      " 1   Customer_ID               100000 non-null  object \n",
      " 2   Month                     100000 non-null  object \n",
      " 3   Name                      90015 non-null   object \n",
      " 4   Age                       100000 non-null  int64  \n",
      " 5   SSN                       100000 non-null  object \n",
      " 6   Occupation                100000 non-null  object \n",
      " 7   Annual_Income             100000 non-null  float64\n",
      " 8   Monthly_Inhand_Salary     84998 non-null   float64\n",
      " 9   Num_Bank_Accounts         100000 non-null  int64  \n",
      " 10  Num_Credit_Card           100000 non-null  int64  \n",
      " 11  Interest_Rate             100000 non-null  int64  \n",
      " 12  Num_of_Loan               100000 non-null  int64  \n",
      " 13  Delay_from_due_date       100000 non-null  int64  \n",
      " 14  Num_of_Delayed_Payment    92998 non-null   float64\n",
      " 15  Changed_Credit_Limit      97909 non-null   float64\n",
      " 16  Num_Credit_Inquiries      98035 non-null   float64\n",
      " 17  Credit_Mix                100000 non-null  object \n",
      " 18  Outstanding_Debt          100000 non-null  float64\n",
      " 19  Credit_Utilization_Ratio  100000 non-null  float64\n",
      " 20  Credit_History_Age        100000 non-null  int32  \n",
      " 21  Payment_of_Min_Amount     100000 non-null  object \n",
      " 22  Total_EMI_per_month       100000 non-null  float64\n",
      " 23  Amount_invested_monthly   95521 non-null   float64\n",
      " 24  Monthly_Balance           97132 non-null   float64\n",
      " 25  Credit_Score              100000 non-null  object \n",
      " 26  Charge                    100000 non-null  int64  \n",
      " 27  Payment                   100000 non-null  int64  \n",
      " 28  Auto Loan                 100000 non-null  int32  \n",
      " 29  Credit-Builder Loan       100000 non-null  int32  \n",
      " 30  Debt Consolidation Loan   100000 non-null  int32  \n",
      " 31  Home Equity Loan          100000 non-null  int32  \n",
      " 32  Mortgage Loan             100000 non-null  int32  \n",
      " 33  Not Specified             100000 non-null  int32  \n",
      " 34  Payday Loan               100000 non-null  int32  \n",
      " 35  Personal Loan             100000 non-null  int32  \n",
      " 36  Student Loan              100000 non-null  int32  \n",
      "dtypes: float64(10), int32(10), int64(8), object(9)\n",
      "memory usage: 24.4+ MB\n"
     ]
    }
   ],
   "source": [
    "train.info()"
   ]
  },
  {
   "cell_type": "code",
   "execution_count": 17,
   "metadata": {},
   "outputs": [
    {
     "name": "stdout",
     "output_type": "stream",
     "text": [
      "Age\n",
      "0\n",
      "Annual_Income\n",
      "0\n",
      "Monthly_Inhand_Salary\n",
      "664\n",
      "Num_Bank_Accounts\n",
      "0\n",
      "Num_Credit_Card\n",
      "0\n",
      "Interest_Rate\n",
      "0\n",
      "Delay_from_due_date\n",
      "0\n",
      "Num_Credit_Inquiries\n",
      "0\n",
      "Changed_Credit_Limit\n",
      "0\n",
      "Num_of_Loan\n",
      "0\n",
      "Credit_Mix\n",
      "0\n",
      "Occupation\n",
      "0\n"
     ]
    }
   ],
   "source": [
    "for column, bounds in hi_lo_bounds.items():\n",
    "    lo = bounds['lo']\n",
    "    hi = bounds['hi']\n",
    "    \n",
    "    # Apply HiLoImputer only for imputation if bounds are None\n",
    "    if lo is None and hi is None:\n",
    "        #HiLoImputer(0,14, 'Occupation')\n",
    "        hi_lo_imputer = HiLoImputer(lo=float('-inf'), hi=float('inf'), columnName=column)\n",
    "    else:\n",
    "        hi_lo_imputer = HiLoImputer(lo=lo, hi=hi, columnName=column)\n",
    "    data = train\n",
    "    print(column)\n",
    "    train = hi_lo_imputer.fit_transform(train)\n",
    "    print(train[column].isnull().sum())   \n"
   ]
  },
  {
   "cell_type": "code",
   "execution_count": null,
   "metadata": {},
   "outputs": [],
   "source": []
  },
  {
   "cell_type": "code",
   "execution_count": 26,
   "metadata": {},
   "outputs": [
    {
     "name": "stdout",
     "output_type": "stream",
     "text": [
      "<class 'pandas.core.frame.DataFrame'>\n",
      "RangeIndex: 100000 entries, 0 to 99999\n",
      "Data columns (total 33 columns):\n",
      " #   Column                    Non-Null Count   Dtype   \n",
      "---  ------                    --------------   -----   \n",
      " 0   Month                     100000 non-null  category\n",
      " 1   Age                       100000 non-null  float64 \n",
      " 2   Occupation                100000 non-null  category\n",
      " 3   Annual_Income             100000 non-null  float64 \n",
      " 4   Monthly_Inhand_Salary     99336 non-null   float64 \n",
      " 5   Num_Bank_Accounts         100000 non-null  float64 \n",
      " 6   Num_Credit_Card           100000 non-null  float64 \n",
      " 7   Interest_Rate             100000 non-null  float64 \n",
      " 8   Num_of_Loan               100000 non-null  float64 \n",
      " 9   Delay_from_due_date       100000 non-null  float64 \n",
      " 10  Num_of_Delayed_Payment    92998 non-null   float64 \n",
      " 11  Changed_Credit_Limit      100000 non-null  float64 \n",
      " 12  Num_Credit_Inquiries      100000 non-null  float64 \n",
      " 13  Credit_Mix                100000 non-null  category\n",
      " 14  Outstanding_Debt          100000 non-null  float64 \n",
      " 15  Credit_Utilization_Ratio  100000 non-null  float64 \n",
      " 16  Credit_History_Age        100000 non-null  int32   \n",
      " 17  Payment_of_Min_Amount     100000 non-null  object  \n",
      " 18  Total_EMI_per_month       100000 non-null  float64 \n",
      " 19  Amount_invested_monthly   95521 non-null   float64 \n",
      " 20  Monthly_Balance           97132 non-null   float64 \n",
      " 21  Credit_Score              100000 non-null  object  \n",
      " 22  Charge                    100000 non-null  int64   \n",
      " 23  Payment                   100000 non-null  int64   \n",
      " 24  Auto Loan                 100000 non-null  int32   \n",
      " 25  Credit-Builder Loan       100000 non-null  int32   \n",
      " 26  Debt Consolidation Loan   100000 non-null  int32   \n",
      " 27  Home Equity Loan          100000 non-null  int32   \n",
      " 28  Mortgage Loan             100000 non-null  int32   \n",
      " 29  Not Specified             100000 non-null  int32   \n",
      " 30  Payday Loan               100000 non-null  int32   \n",
      " 31  Personal Loan             100000 non-null  int32   \n",
      " 32  Student Loan              100000 non-null  int32   \n",
      "dtypes: category(3), float64(16), int32(10), int64(2), object(2)\n",
      "memory usage: 19.4+ MB\n"
     ]
    }
   ],
   "source": [
    "train.info()"
   ]
  },
  {
   "cell_type": "code",
   "execution_count": 19,
   "metadata": {},
   "outputs": [],
   "source": [
    "# lets drop the columns that are not needed\n",
    "# customerid, id, name, SSN\n",
    "train.drop(['Customer_ID', 'ID', 'Name', 'SSN'], axis=1, inplace=True)"
   ]
  },
  {
   "cell_type": "code",
   "execution_count": 22,
   "metadata": {},
   "outputs": [],
   "source": [
    "#change month to categorical\n",
    "train['Month'] = train['Month'].astype('category')"
   ]
  },
  {
   "cell_type": "code",
   "execution_count": 28,
   "metadata": {},
   "outputs": [
    {
     "name": "stdout",
     "output_type": "stream",
     "text": [
      "Outstanding_Debt            0.096615\n",
      "Interest_Rate               0.065865\n",
      "Delay_from_due_date         0.055931\n",
      "Credit_History_Age          0.051530\n",
      "Changed_Credit_Limit        0.051009\n",
      "Credit_Mix_Good             0.045025\n",
      "Credit_Mix_Standard         0.044412\n",
      "Monthly_Balance             0.043631\n",
      "Amount_invested_monthly     0.043478\n",
      "Num_Credit_Inquiries        0.041201\n",
      "Credit_Utilization_Ratio    0.039304\n",
      "Num_Credit_Card             0.038572\n",
      "dtype: float64\n"
     ]
    }
   ],
   "source": [
    "from sklearn.ensemble import RandomForestClassifier\n",
    "from sklearn.model_selection import train_test_split\n",
    "import pandas as pd\n",
    "\n",
    "# Drop unnecessary columns and set up target\n",
    "X = train.drop(columns=['Credit_Score'])\n",
    "y = train['Credit_Score']\n",
    "\n",
    "# One-hot encode all categorical columns\n",
    "X_encoded = pd.get_dummies(X, drop_first=True)\n",
    "\n",
    "# Train-test split\n",
    "X_train, X_test, y_train, y_test = train_test_split(X_encoded, y, test_size=0.2, random_state=42)\n",
    "\n",
    "# Train a simple RandomForest model\n",
    "model = RandomForestClassifier(random_state=42)\n",
    "model.fit(X_train, y_train)\n",
    "\n",
    "# Get feature importances\n",
    "feature_importances = pd.Series(model.feature_importances_, index=X_train.columns).sort_values(ascending=False)\n",
    "print(feature_importances.head(12))  # Display top 12 features to see if 'Month' columns are significant\n"
   ]
  },
  {
   "cell_type": "code",
   "execution_count": 33,
   "metadata": {},
   "outputs": [
    {
     "name": "stdout",
     "output_type": "stream",
     "text": [
      "Model accuracy: 81.16%\n"
     ]
    }
   ],
   "source": [
    "# lets check model accuracyon the tes data\n",
    "\n",
    "from sklearn.metrics import accuracy_score \n",
    "X_test_encoded = pd.get_dummies(X_test, drop_first=True)\n",
    "y_pred = model.predict(X_test_encoded)\n",
    "accuracy = accuracy_score(y_test, y_pred)\n",
    "print(f'Model accuracy: {accuracy:.2%}')\n"
   ]
  },
  {
   "cell_type": "code",
   "execution_count": null,
   "metadata": {},
   "outputs": [],
   "source": [
    "#lets check on the actual test data"
   ]
  },
  {
   "cell_type": "code",
   "execution_count": 30,
   "metadata": {},
   "outputs": [
    {
     "name": "stderr",
     "output_type": "stream",
     "text": [
      "C:\\Users\\kb\\AppData\\Local\\Temp\\ipykernel_23528\\1805401767.py:4: FutureWarning: The default of observed=False is deprecated and will be changed to True in a future version of pandas. Pass observed=False to retain current behavior or observed=True to adopt the future default and silence this warning.\n",
      "  month_groups = [group['Credit_Score'] for name, group in train.groupby('Month')]\n"
     ]
    },
    {
     "ename": "TypeError",
     "evalue": "unsupported operand type(s) for /: 'str' and 'int'",
     "output_type": "error",
     "traceback": [
      "\u001b[1;31m---------------------------------------------------------------------------\u001b[0m",
      "\u001b[1;31mTypeError\u001b[0m                                 Traceback (most recent call last)",
      "Cell \u001b[1;32mIn[30], line 5\u001b[0m\n\u001b[0;32m      3\u001b[0m \u001b[38;5;66;03m# Group data by Month and check variance in credit scores\u001b[39;00m\n\u001b[0;32m      4\u001b[0m month_groups \u001b[38;5;241m=\u001b[39m [group[\u001b[38;5;124m'\u001b[39m\u001b[38;5;124mCredit_Score\u001b[39m\u001b[38;5;124m'\u001b[39m] \u001b[38;5;28;01mfor\u001b[39;00m name, group \u001b[38;5;129;01min\u001b[39;00m train\u001b[38;5;241m.\u001b[39mgroupby(\u001b[38;5;124m'\u001b[39m\u001b[38;5;124mMonth\u001b[39m\u001b[38;5;124m'\u001b[39m)]\n\u001b[1;32m----> 5\u001b[0m anova_result \u001b[38;5;241m=\u001b[39m \u001b[43mf_oneway\u001b[49m\u001b[43m(\u001b[49m\u001b[38;5;241;43m*\u001b[39;49m\u001b[43mmonth_groups\u001b[49m\u001b[43m)\u001b[49m\n\u001b[0;32m      6\u001b[0m \u001b[38;5;28mprint\u001b[39m(\u001b[38;5;124mf\u001b[39m\u001b[38;5;124m'\u001b[39m\u001b[38;5;124mANOVA F-test result: F=\u001b[39m\u001b[38;5;132;01m{\u001b[39;00manova_result\u001b[38;5;241m.\u001b[39mstatistic\u001b[38;5;132;01m}\u001b[39;00m\u001b[38;5;124m, p-value=\u001b[39m\u001b[38;5;132;01m{\u001b[39;00manova_result\u001b[38;5;241m.\u001b[39mpvalue\u001b[38;5;132;01m}\u001b[39;00m\u001b[38;5;124m'\u001b[39m)\n",
      "File \u001b[1;32mc:\\Users\\kb\\anaconda3\\envs\\test-env\\lib\\site-packages\\scipy\\stats\\_axis_nan_policy.py:573\u001b[0m, in \u001b[0;36m_axis_nan_policy_factory.<locals>.axis_nan_policy_decorator.<locals>.axis_nan_policy_wrapper\u001b[1;34m(***failed resolving arguments***)\u001b[0m\n\u001b[0;32m    570\u001b[0m     res \u001b[38;5;241m=\u001b[39m _add_reduced_axes(res, reduced_axes, keepdims)\n\u001b[0;32m    571\u001b[0m     \u001b[38;5;28;01mreturn\u001b[39;00m tuple_to_result(\u001b[38;5;241m*\u001b[39mres)\n\u001b[1;32m--> 573\u001b[0m res \u001b[38;5;241m=\u001b[39m hypotest_fun_out(\u001b[38;5;241m*\u001b[39msamples, \u001b[38;5;241m*\u001b[39m\u001b[38;5;241m*\u001b[39mkwds)\n\u001b[0;32m    574\u001b[0m res \u001b[38;5;241m=\u001b[39m result_to_tuple(res)\n\u001b[0;32m    575\u001b[0m res \u001b[38;5;241m=\u001b[39m _add_reduced_axes(res, reduced_axes, keepdims)\n",
      "File \u001b[1;32mc:\\Users\\kb\\anaconda3\\envs\\test-env\\lib\\site-packages\\scipy\\stats\\_stats_py.py:4177\u001b[0m, in \u001b[0;36mf_oneway\u001b[1;34m(axis, *samples)\u001b[0m\n\u001b[0;32m   4171\u001b[0m all_same_const \u001b[38;5;241m=\u001b[39m (_first(alldata, axis) \u001b[38;5;241m==\u001b[39m alldata)\u001b[38;5;241m.\u001b[39mall(axis\u001b[38;5;241m=\u001b[39maxis)\n\u001b[0;32m   4173\u001b[0m \u001b[38;5;66;03m# Determine the mean of the data, and subtract that from all inputs to a\u001b[39;00m\n\u001b[0;32m   4174\u001b[0m \u001b[38;5;66;03m# variance (via sum_of_sq / sq_of_sum) calculation.  Variance is invariant\u001b[39;00m\n\u001b[0;32m   4175\u001b[0m \u001b[38;5;66;03m# to a shift in location, and centering all data around zero vastly\u001b[39;00m\n\u001b[0;32m   4176\u001b[0m \u001b[38;5;66;03m# improves numerical stability.\u001b[39;00m\n\u001b[1;32m-> 4177\u001b[0m offset \u001b[38;5;241m=\u001b[39m \u001b[43malldata\u001b[49m\u001b[38;5;241;43m.\u001b[39;49m\u001b[43mmean\u001b[49m\u001b[43m(\u001b[49m\u001b[43maxis\u001b[49m\u001b[38;5;241;43m=\u001b[39;49m\u001b[43maxis\u001b[49m\u001b[43m,\u001b[49m\u001b[43m \u001b[49m\u001b[43mkeepdims\u001b[49m\u001b[38;5;241;43m=\u001b[39;49m\u001b[38;5;28;43;01mTrue\u001b[39;49;00m\u001b[43m)\u001b[49m\n\u001b[0;32m   4178\u001b[0m alldata \u001b[38;5;241m=\u001b[39m alldata \u001b[38;5;241m-\u001b[39m offset\n\u001b[0;32m   4180\u001b[0m normalized_ss \u001b[38;5;241m=\u001b[39m _square_of_sums(alldata, axis\u001b[38;5;241m=\u001b[39maxis) \u001b[38;5;241m/\u001b[39m bign\n",
      "File \u001b[1;32mc:\\Users\\kb\\anaconda3\\envs\\test-env\\lib\\site-packages\\numpy\\core\\_methods.py:182\u001b[0m, in \u001b[0;36m_mean\u001b[1;34m(a, axis, dtype, out, keepdims, where)\u001b[0m\n\u001b[0;32m    180\u001b[0m ret \u001b[38;5;241m=\u001b[39m umr_sum(arr, axis, dtype, out, keepdims, where\u001b[38;5;241m=\u001b[39mwhere)\n\u001b[0;32m    181\u001b[0m \u001b[38;5;28;01mif\u001b[39;00m \u001b[38;5;28misinstance\u001b[39m(ret, mu\u001b[38;5;241m.\u001b[39mndarray):\n\u001b[1;32m--> 182\u001b[0m     ret \u001b[38;5;241m=\u001b[39m \u001b[43mum\u001b[49m\u001b[38;5;241;43m.\u001b[39;49m\u001b[43mtrue_divide\u001b[49m\u001b[43m(\u001b[49m\n\u001b[0;32m    183\u001b[0m \u001b[43m            \u001b[49m\u001b[43mret\u001b[49m\u001b[43m,\u001b[49m\u001b[43m \u001b[49m\u001b[43mrcount\u001b[49m\u001b[43m,\u001b[49m\u001b[43m \u001b[49m\u001b[43mout\u001b[49m\u001b[38;5;241;43m=\u001b[39;49m\u001b[43mret\u001b[49m\u001b[43m,\u001b[49m\u001b[43m \u001b[49m\u001b[43mcasting\u001b[49m\u001b[38;5;241;43m=\u001b[39;49m\u001b[38;5;124;43m'\u001b[39;49m\u001b[38;5;124;43munsafe\u001b[39;49m\u001b[38;5;124;43m'\u001b[39;49m\u001b[43m,\u001b[49m\u001b[43m \u001b[49m\u001b[43msubok\u001b[49m\u001b[38;5;241;43m=\u001b[39;49m\u001b[38;5;28;43;01mFalse\u001b[39;49;00m\u001b[43m)\u001b[49m\n\u001b[0;32m    184\u001b[0m     \u001b[38;5;28;01mif\u001b[39;00m is_float16_result \u001b[38;5;129;01mand\u001b[39;00m out \u001b[38;5;129;01mis\u001b[39;00m \u001b[38;5;28;01mNone\u001b[39;00m:\n\u001b[0;32m    185\u001b[0m         ret \u001b[38;5;241m=\u001b[39m arr\u001b[38;5;241m.\u001b[39mdtype\u001b[38;5;241m.\u001b[39mtype(ret)\n",
      "\u001b[1;31mTypeError\u001b[0m: unsupported operand type(s) for /: 'str' and 'int'"
     ]
    }
   ],
   "source": [
    "from scipy.stats import f_oneway\n",
    "\n",
    "# Group data by Month and check variance in credit scores\n",
    "month_groups = [group['Credit_Score'] for name, group in train.groupby('Month')]\n",
    "anova_result = f_oneway(*month_groups)\n",
    "print(f'ANOVA F-test result: F={anova_result.statistic}, p-value={anova_result.pvalue}')\n"
   ]
  },
  {
   "cell_type": "code",
   "execution_count": 32,
   "metadata": {},
   "outputs": [
    {
     "name": "stderr",
     "output_type": "stream",
     "text": [
      "C:\\Users\\kb\\AppData\\Local\\Temp\\ipykernel_23528\\4057345024.py:2: FutureWarning: The default of observed=False is deprecated and will be changed to True in a future version of pandas. Pass observed=False to retain current behavior or observed=True to adopt the future default and silence this warning.\n",
      "  month_mean_scores = train.groupby('Month')['Credit_Score'].mean()\n"
     ]
    },
    {
     "ename": "TypeError",
     "evalue": "agg function failed [how->mean,dtype->object]",
     "output_type": "error",
     "traceback": [
      "\u001b[1;31m---------------------------------------------------------------------------\u001b[0m",
      "\u001b[1;31mTypeError\u001b[0m                                 Traceback (most recent call last)",
      "File \u001b[1;32mc:\\Users\\kb\\anaconda3\\envs\\test-env\\lib\\site-packages\\pandas\\core\\groupby\\groupby.py:1942\u001b[0m, in \u001b[0;36mGroupBy._agg_py_fallback\u001b[1;34m(self, how, values, ndim, alt)\u001b[0m\n\u001b[0;32m   1941\u001b[0m \u001b[38;5;28;01mtry\u001b[39;00m:\n\u001b[1;32m-> 1942\u001b[0m     res_values \u001b[38;5;241m=\u001b[39m \u001b[38;5;28;43mself\u001b[39;49m\u001b[38;5;241;43m.\u001b[39;49m\u001b[43m_grouper\u001b[49m\u001b[38;5;241;43m.\u001b[39;49m\u001b[43magg_series\u001b[49m\u001b[43m(\u001b[49m\u001b[43mser\u001b[49m\u001b[43m,\u001b[49m\u001b[43m \u001b[49m\u001b[43malt\u001b[49m\u001b[43m,\u001b[49m\u001b[43m \u001b[49m\u001b[43mpreserve_dtype\u001b[49m\u001b[38;5;241;43m=\u001b[39;49m\u001b[38;5;28;43;01mTrue\u001b[39;49;00m\u001b[43m)\u001b[49m\n\u001b[0;32m   1943\u001b[0m \u001b[38;5;28;01mexcept\u001b[39;00m \u001b[38;5;167;01mException\u001b[39;00m \u001b[38;5;28;01mas\u001b[39;00m err:\n",
      "File \u001b[1;32mc:\\Users\\kb\\anaconda3\\envs\\test-env\\lib\\site-packages\\pandas\\core\\groupby\\ops.py:864\u001b[0m, in \u001b[0;36mBaseGrouper.agg_series\u001b[1;34m(self, obj, func, preserve_dtype)\u001b[0m\n\u001b[0;32m    862\u001b[0m     preserve_dtype \u001b[38;5;241m=\u001b[39m \u001b[38;5;28;01mTrue\u001b[39;00m\n\u001b[1;32m--> 864\u001b[0m result \u001b[38;5;241m=\u001b[39m \u001b[38;5;28;43mself\u001b[39;49m\u001b[38;5;241;43m.\u001b[39;49m\u001b[43m_aggregate_series_pure_python\u001b[49m\u001b[43m(\u001b[49m\u001b[43mobj\u001b[49m\u001b[43m,\u001b[49m\u001b[43m \u001b[49m\u001b[43mfunc\u001b[49m\u001b[43m)\u001b[49m\n\u001b[0;32m    866\u001b[0m npvalues \u001b[38;5;241m=\u001b[39m lib\u001b[38;5;241m.\u001b[39mmaybe_convert_objects(result, try_float\u001b[38;5;241m=\u001b[39m\u001b[38;5;28;01mFalse\u001b[39;00m)\n",
      "File \u001b[1;32mc:\\Users\\kb\\anaconda3\\envs\\test-env\\lib\\site-packages\\pandas\\core\\groupby\\ops.py:885\u001b[0m, in \u001b[0;36mBaseGrouper._aggregate_series_pure_python\u001b[1;34m(self, obj, func)\u001b[0m\n\u001b[0;32m    884\u001b[0m \u001b[38;5;28;01mfor\u001b[39;00m i, group \u001b[38;5;129;01min\u001b[39;00m \u001b[38;5;28menumerate\u001b[39m(splitter):\n\u001b[1;32m--> 885\u001b[0m     res \u001b[38;5;241m=\u001b[39m \u001b[43mfunc\u001b[49m\u001b[43m(\u001b[49m\u001b[43mgroup\u001b[49m\u001b[43m)\u001b[49m\n\u001b[0;32m    886\u001b[0m     res \u001b[38;5;241m=\u001b[39m extract_result(res)\n",
      "File \u001b[1;32mc:\\Users\\kb\\anaconda3\\envs\\test-env\\lib\\site-packages\\pandas\\core\\groupby\\groupby.py:2454\u001b[0m, in \u001b[0;36mGroupBy.mean.<locals>.<lambda>\u001b[1;34m(x)\u001b[0m\n\u001b[0;32m   2451\u001b[0m \u001b[38;5;28;01melse\u001b[39;00m:\n\u001b[0;32m   2452\u001b[0m     result \u001b[38;5;241m=\u001b[39m \u001b[38;5;28mself\u001b[39m\u001b[38;5;241m.\u001b[39m_cython_agg_general(\n\u001b[0;32m   2453\u001b[0m         \u001b[38;5;124m\"\u001b[39m\u001b[38;5;124mmean\u001b[39m\u001b[38;5;124m\"\u001b[39m,\n\u001b[1;32m-> 2454\u001b[0m         alt\u001b[38;5;241m=\u001b[39m\u001b[38;5;28;01mlambda\u001b[39;00m x: \u001b[43mSeries\u001b[49m\u001b[43m(\u001b[49m\u001b[43mx\u001b[49m\u001b[43m,\u001b[49m\u001b[43m \u001b[49m\u001b[43mcopy\u001b[49m\u001b[38;5;241;43m=\u001b[39;49m\u001b[38;5;28;43;01mFalse\u001b[39;49;00m\u001b[43m)\u001b[49m\u001b[38;5;241;43m.\u001b[39;49m\u001b[43mmean\u001b[49m\u001b[43m(\u001b[49m\u001b[43mnumeric_only\u001b[49m\u001b[38;5;241;43m=\u001b[39;49m\u001b[43mnumeric_only\u001b[49m\u001b[43m)\u001b[49m,\n\u001b[0;32m   2455\u001b[0m         numeric_only\u001b[38;5;241m=\u001b[39mnumeric_only,\n\u001b[0;32m   2456\u001b[0m     )\n\u001b[0;32m   2457\u001b[0m     \u001b[38;5;28;01mreturn\u001b[39;00m result\u001b[38;5;241m.\u001b[39m__finalize__(\u001b[38;5;28mself\u001b[39m\u001b[38;5;241m.\u001b[39mobj, method\u001b[38;5;241m=\u001b[39m\u001b[38;5;124m\"\u001b[39m\u001b[38;5;124mgroupby\u001b[39m\u001b[38;5;124m\"\u001b[39m)\n",
      "File \u001b[1;32mc:\\Users\\kb\\anaconda3\\envs\\test-env\\lib\\site-packages\\pandas\\core\\series.py:6549\u001b[0m, in \u001b[0;36mSeries.mean\u001b[1;34m(self, axis, skipna, numeric_only, **kwargs)\u001b[0m\n\u001b[0;32m   6541\u001b[0m \u001b[38;5;129m@doc\u001b[39m(make_doc(\u001b[38;5;124m\"\u001b[39m\u001b[38;5;124mmean\u001b[39m\u001b[38;5;124m\"\u001b[39m, ndim\u001b[38;5;241m=\u001b[39m\u001b[38;5;241m1\u001b[39m))\n\u001b[0;32m   6542\u001b[0m \u001b[38;5;28;01mdef\u001b[39;00m \u001b[38;5;21mmean\u001b[39m(\n\u001b[0;32m   6543\u001b[0m     \u001b[38;5;28mself\u001b[39m,\n\u001b[1;32m   (...)\u001b[0m\n\u001b[0;32m   6547\u001b[0m     \u001b[38;5;241m*\u001b[39m\u001b[38;5;241m*\u001b[39mkwargs,\n\u001b[0;32m   6548\u001b[0m ):\n\u001b[1;32m-> 6549\u001b[0m     \u001b[38;5;28;01mreturn\u001b[39;00m NDFrame\u001b[38;5;241m.\u001b[39mmean(\u001b[38;5;28mself\u001b[39m, axis, skipna, numeric_only, \u001b[38;5;241m*\u001b[39m\u001b[38;5;241m*\u001b[39mkwargs)\n",
      "File \u001b[1;32mc:\\Users\\kb\\anaconda3\\envs\\test-env\\lib\\site-packages\\pandas\\core\\generic.py:12420\u001b[0m, in \u001b[0;36mNDFrame.mean\u001b[1;34m(self, axis, skipna, numeric_only, **kwargs)\u001b[0m\n\u001b[0;32m  12413\u001b[0m \u001b[38;5;28;01mdef\u001b[39;00m \u001b[38;5;21mmean\u001b[39m(\n\u001b[0;32m  12414\u001b[0m     \u001b[38;5;28mself\u001b[39m,\n\u001b[0;32m  12415\u001b[0m     axis: Axis \u001b[38;5;241m|\u001b[39m \u001b[38;5;28;01mNone\u001b[39;00m \u001b[38;5;241m=\u001b[39m \u001b[38;5;241m0\u001b[39m,\n\u001b[1;32m   (...)\u001b[0m\n\u001b[0;32m  12418\u001b[0m     \u001b[38;5;241m*\u001b[39m\u001b[38;5;241m*\u001b[39mkwargs,\n\u001b[0;32m  12419\u001b[0m ) \u001b[38;5;241m-\u001b[39m\u001b[38;5;241m>\u001b[39m Series \u001b[38;5;241m|\u001b[39m \u001b[38;5;28mfloat\u001b[39m:\n\u001b[1;32m> 12420\u001b[0m     \u001b[38;5;28;01mreturn\u001b[39;00m \u001b[38;5;28mself\u001b[39m\u001b[38;5;241m.\u001b[39m_stat_function(\n\u001b[0;32m  12421\u001b[0m         \u001b[38;5;124m\"\u001b[39m\u001b[38;5;124mmean\u001b[39m\u001b[38;5;124m\"\u001b[39m, nanops\u001b[38;5;241m.\u001b[39mnanmean, axis, skipna, numeric_only, \u001b[38;5;241m*\u001b[39m\u001b[38;5;241m*\u001b[39mkwargs\n\u001b[0;32m  12422\u001b[0m     )\n",
      "File \u001b[1;32mc:\\Users\\kb\\anaconda3\\envs\\test-env\\lib\\site-packages\\pandas\\core\\generic.py:12377\u001b[0m, in \u001b[0;36mNDFrame._stat_function\u001b[1;34m(self, name, func, axis, skipna, numeric_only, **kwargs)\u001b[0m\n\u001b[0;32m  12375\u001b[0m validate_bool_kwarg(skipna, \u001b[38;5;124m\"\u001b[39m\u001b[38;5;124mskipna\u001b[39m\u001b[38;5;124m\"\u001b[39m, none_allowed\u001b[38;5;241m=\u001b[39m\u001b[38;5;28;01mFalse\u001b[39;00m)\n\u001b[1;32m> 12377\u001b[0m \u001b[38;5;28;01mreturn\u001b[39;00m \u001b[38;5;28;43mself\u001b[39;49m\u001b[38;5;241;43m.\u001b[39;49m\u001b[43m_reduce\u001b[49m\u001b[43m(\u001b[49m\n\u001b[0;32m  12378\u001b[0m \u001b[43m    \u001b[49m\u001b[43mfunc\u001b[49m\u001b[43m,\u001b[49m\u001b[43m \u001b[49m\u001b[43mname\u001b[49m\u001b[38;5;241;43m=\u001b[39;49m\u001b[43mname\u001b[49m\u001b[43m,\u001b[49m\u001b[43m \u001b[49m\u001b[43maxis\u001b[49m\u001b[38;5;241;43m=\u001b[39;49m\u001b[43maxis\u001b[49m\u001b[43m,\u001b[49m\u001b[43m \u001b[49m\u001b[43mskipna\u001b[49m\u001b[38;5;241;43m=\u001b[39;49m\u001b[43mskipna\u001b[49m\u001b[43m,\u001b[49m\u001b[43m \u001b[49m\u001b[43mnumeric_only\u001b[49m\u001b[38;5;241;43m=\u001b[39;49m\u001b[43mnumeric_only\u001b[49m\n\u001b[0;32m  12379\u001b[0m \u001b[43m\u001b[49m\u001b[43m)\u001b[49m\n",
      "File \u001b[1;32mc:\\Users\\kb\\anaconda3\\envs\\test-env\\lib\\site-packages\\pandas\\core\\series.py:6457\u001b[0m, in \u001b[0;36mSeries._reduce\u001b[1;34m(self, op, name, axis, skipna, numeric_only, filter_type, **kwds)\u001b[0m\n\u001b[0;32m   6453\u001b[0m     \u001b[38;5;28;01mraise\u001b[39;00m \u001b[38;5;167;01mTypeError\u001b[39;00m(\n\u001b[0;32m   6454\u001b[0m         \u001b[38;5;124mf\u001b[39m\u001b[38;5;124m\"\u001b[39m\u001b[38;5;124mSeries.\u001b[39m\u001b[38;5;132;01m{\u001b[39;00mname\u001b[38;5;132;01m}\u001b[39;00m\u001b[38;5;124m does not allow \u001b[39m\u001b[38;5;132;01m{\u001b[39;00mkwd_name\u001b[38;5;132;01m}\u001b[39;00m\u001b[38;5;124m=\u001b[39m\u001b[38;5;132;01m{\u001b[39;00mnumeric_only\u001b[38;5;132;01m}\u001b[39;00m\u001b[38;5;124m \u001b[39m\u001b[38;5;124m\"\u001b[39m\n\u001b[0;32m   6455\u001b[0m         \u001b[38;5;124m\"\u001b[39m\u001b[38;5;124mwith non-numeric dtypes.\u001b[39m\u001b[38;5;124m\"\u001b[39m\n\u001b[0;32m   6456\u001b[0m     )\n\u001b[1;32m-> 6457\u001b[0m \u001b[38;5;28;01mreturn\u001b[39;00m op(delegate, skipna\u001b[38;5;241m=\u001b[39mskipna, \u001b[38;5;241m*\u001b[39m\u001b[38;5;241m*\u001b[39mkwds)\n",
      "File \u001b[1;32mc:\\Users\\kb\\anaconda3\\envs\\test-env\\lib\\site-packages\\pandas\\core\\nanops.py:147\u001b[0m, in \u001b[0;36mbottleneck_switch.__call__.<locals>.f\u001b[1;34m(values, axis, skipna, **kwds)\u001b[0m\n\u001b[0;32m    146\u001b[0m \u001b[38;5;28;01melse\u001b[39;00m:\n\u001b[1;32m--> 147\u001b[0m     result \u001b[38;5;241m=\u001b[39m alt(values, axis\u001b[38;5;241m=\u001b[39maxis, skipna\u001b[38;5;241m=\u001b[39mskipna, \u001b[38;5;241m*\u001b[39m\u001b[38;5;241m*\u001b[39mkwds)\n\u001b[0;32m    149\u001b[0m \u001b[38;5;28;01mreturn\u001b[39;00m result\n",
      "File \u001b[1;32mc:\\Users\\kb\\anaconda3\\envs\\test-env\\lib\\site-packages\\pandas\\core\\nanops.py:404\u001b[0m, in \u001b[0;36m_datetimelike_compat.<locals>.new_func\u001b[1;34m(values, axis, skipna, mask, **kwargs)\u001b[0m\n\u001b[0;32m    402\u001b[0m     mask \u001b[38;5;241m=\u001b[39m isna(values)\n\u001b[1;32m--> 404\u001b[0m result \u001b[38;5;241m=\u001b[39m func(values, axis\u001b[38;5;241m=\u001b[39maxis, skipna\u001b[38;5;241m=\u001b[39mskipna, mask\u001b[38;5;241m=\u001b[39mmask, \u001b[38;5;241m*\u001b[39m\u001b[38;5;241m*\u001b[39mkwargs)\n\u001b[0;32m    406\u001b[0m \u001b[38;5;28;01mif\u001b[39;00m datetimelike:\n",
      "File \u001b[1;32mc:\\Users\\kb\\anaconda3\\envs\\test-env\\lib\\site-packages\\pandas\\core\\nanops.py:720\u001b[0m, in \u001b[0;36mnanmean\u001b[1;34m(values, axis, skipna, mask)\u001b[0m\n\u001b[0;32m    719\u001b[0m the_sum \u001b[38;5;241m=\u001b[39m values\u001b[38;5;241m.\u001b[39msum(axis, dtype\u001b[38;5;241m=\u001b[39mdtype_sum)\n\u001b[1;32m--> 720\u001b[0m the_sum \u001b[38;5;241m=\u001b[39m \u001b[43m_ensure_numeric\u001b[49m\u001b[43m(\u001b[49m\u001b[43mthe_sum\u001b[49m\u001b[43m)\u001b[49m\n\u001b[0;32m    722\u001b[0m \u001b[38;5;28;01mif\u001b[39;00m axis \u001b[38;5;129;01mis\u001b[39;00m \u001b[38;5;129;01mnot\u001b[39;00m \u001b[38;5;28;01mNone\u001b[39;00m \u001b[38;5;129;01mand\u001b[39;00m \u001b[38;5;28mgetattr\u001b[39m(the_sum, \u001b[38;5;124m\"\u001b[39m\u001b[38;5;124mndim\u001b[39m\u001b[38;5;124m\"\u001b[39m, \u001b[38;5;28;01mFalse\u001b[39;00m):\n",
      "File \u001b[1;32mc:\\Users\\kb\\anaconda3\\envs\\test-env\\lib\\site-packages\\pandas\\core\\nanops.py:1701\u001b[0m, in \u001b[0;36m_ensure_numeric\u001b[1;34m(x)\u001b[0m\n\u001b[0;32m   1699\u001b[0m \u001b[38;5;28;01mif\u001b[39;00m \u001b[38;5;28misinstance\u001b[39m(x, \u001b[38;5;28mstr\u001b[39m):\n\u001b[0;32m   1700\u001b[0m     \u001b[38;5;66;03m# GH#44008, GH#36703 avoid casting e.g. strings to numeric\u001b[39;00m\n\u001b[1;32m-> 1701\u001b[0m     \u001b[38;5;28;01mraise\u001b[39;00m \u001b[38;5;167;01mTypeError\u001b[39;00m(\u001b[38;5;124mf\u001b[39m\u001b[38;5;124m\"\u001b[39m\u001b[38;5;124mCould not convert string \u001b[39m\u001b[38;5;124m'\u001b[39m\u001b[38;5;132;01m{\u001b[39;00mx\u001b[38;5;132;01m}\u001b[39;00m\u001b[38;5;124m'\u001b[39m\u001b[38;5;124m to numeric\u001b[39m\u001b[38;5;124m\"\u001b[39m)\n\u001b[0;32m   1702\u001b[0m \u001b[38;5;28;01mtry\u001b[39;00m:\n",
      "\u001b[1;31mTypeError\u001b[0m: Could not convert string 'GoodGoodGoodStandardStandardGoodGoodPoorGoodGoodStandardStandardStandardPoorStandardStandardPoorStandardGoodStandardPoorStandardGoodPoorPoorStandardPoorStandardStandardPoorGoodStandardStandardStandardGoodGoodPoorStandardStandardStandardStandardStandardStandardGoodGoodStandardStandardStandardStandardGoodPoorPoorPoorStandardStandardGoodStandardPoorStandardPoorPoorStandardGoodGoodStandardPoorStandardStandardStandardPoorStandardStandardStandardStandardGoodPoorStandardGoodPoorPoorStandardGoodStandardGoodGoodStandardPoorStandardStandardPoorGoodGoodStandardStandardStandardStandardGoodStandardStandardPoorGoodStandardPoorStandardStandardPoorStandardStandardStandardPoorPoorGoodPoorPoorStandardStandardStandardPoorPoorStandardPoorStandardGoodGoodStandardStandardStandardGoodStandardGoodStandardPoorStandardStandardStandardStandardStandardStandardStandardStandardPoorGoodGoodStandardStandardGoodGoodPoorGoodStandardStandardStandardStandardGoodStandardStandardStandardStandardPoorStandardPoorGoodStandardPoorPoorPoorPoorGoodGoodPoorStandardPoorStandardGoodPoorStandardStandardStandardStandardStandardGoodGoodGoodStandardStandardStandardPoorStandardPoorPoorStandardStandardPoorPoorPoorPoorStandardPoorPoorStandardGoodStandardPoorStandardStandardGoodGoodGoodStandardStandardStandardGoodStandardPoorPoorGoodGoodStandardPoorPoorStandardStandardGoodStandardStandardPoorStandardGoodStandardStandardPoorStandardPoorStandardStandardPoorStandardStandardStandardPoorPoorStandardStandardStandardStandardStandardGoodStandardStandardStandardStandardStandardStandardPoorPoorPoorPoorStandardStandardPoorGoodStandardStandardGoodStandardPoorStandardPoorStandardPoorStandardPoorPoorStandardStandardGoodStandardStandardGoodPoorPoorPoorStandardStandardGoodStandardGoodStandardPoorPoorPoorPoorStandardStandardStandardGoodStandardStandardStandardStandardStandardStandardStandardStandardStandardPoorStandardPoorStandardStandardStandardPoorStandardStandardStandardStandardStandardStandardGoodPoorPoorStandardStandardPoorPoorStandardPoorStandardPoorGoodStandardStandardStandardStandardStandardGoodStandardStandardGoodStandardStandardStandardPoorStandardPoorPoorGoodPoorStandardStandardPoorStandardGoodGoodStandardPoorStandardPoorStandardStandardPoorStandardStandardStandardStandardPoorStandardStandardGoodPoorPoorStandardStandardStandardPoorGoodGoodStandardStandardStandardStandardStandardPoorGoodStandardGoodStandardPoorPoorPoorStandardStandardPoorPoorStandardStandardStandardStandardStandardGoodPoorPoorGoodStandardGoodStandardStandardStandardGoodPoorStandardGoodStandardPoorStandardStandardPoorGoodGoodPoorPoorStandardPoorGoodStandardStandardStandardPoorStandardStandardGoodStandardStandardGoodStandardStandardStandardPoorStandardGoodPoorStandardPoorPoorPoorStandardPoorPoorStandardGoodPoorStandardPoorPoorStandardPoorStandardPoorStandardStandardStandardStandardStandardPoorStandardGoodGoodStandardGoodStandardPoorPoorPoorPoorStandardStandardStandardStandardStandardStandardStandardStandardPoorStandardStandardStandardStandardGoodStandardPoorStandardStandardGoodPoorStandardStandardPoorStandardStandardGoodGoodGoodStandardStandardStandardPoorPoorPoorPoorPoorStandardStandardStandardPoorStandardPoorStandardPoorStandardPoorPoorStandardStandardPoorPoorGoodStandardPoorStandardStandardGoodStandardStandardStandardPoorStandardStandardGoodPoorPoorPoorStandardStandardStandardPoorStandardGoodPoorStandardPoorGoodStandardPoorStandardStandardPoorGoodStandardStandardPoorPoorGoodStandardGoodStandardPoorStandardPoorGoodStandardStandardStandardGoodPoorStandardStandardStandardGoodGoodStandardGoodStandardPoorStandardPoorGoodPoorStandardStandardGoodStandardStandardStandardGoodGoodPoorPoorPoorGoodPoorPoorStandardStandardGoodStandardStandardGoodPoorPoorStandardGoodStandardPoorPoorStandardPoorStandardStandardStandardStandardStandardStandardPoorPoorGoodPoorPoorGoodPoorPoorStandardStandardStandardStandardStandardGoodPoorPoorStandardPoorGoodPoorPoorPoorGoodStandardStandardStandardPoorPoorStandardPoorPoorStandardGoodStandardGoodPoorGoodStandardPoorGoodStandardStandardGoodStandardStandardPoorGoodStandardStandardStandardStandardPoorStandardPoorPoorPoorPoorStandardStandardGoodStandardPoorStandardGoodStandardStandardPoorGoodGoodStandardGoodStandardStandardPoorStandardGoodGoodPoorPoorStandardStandardGoodGoodStandardStandardStandardPoorStandardPoorGoodGoodStandardGoodStandardGoodPoorGoodStandardStandardGoodStandardStandardStandardGoodStandardPoorStandardPoorStandardPoorPoorPoorPoorGoodGoodStandardGoodStandardPoorPoorGoodStandardGoodStandardStandardStandardStandardGoodGoodStandardStandardPoorStandardStandardGoodStandardStandardStandardStandardStandardStandardStandardStandardStandardPoorStandardStandardPoorStandardGoodStandardStandardStandardStandardGoodStandardPoorStandardStandardStandardPoorGoodStandardStandardPoorPoorPoorStandardGoodPoorPoorPoorGoodPoorStandardGoodStandardStandardGoodGoodStandardStandardGoodPoorStandardPoorStandardStandardStandardStandardPoorStandardStandardGoodPoorPoorStandardPoorStandardStandardStandardPoorPoorStandardGoodPoorStandardStandardPoorStandardGoodPoorStandardStandardPoorPoorPoorPoorStandardStandardPoorGoodStandardGoodStandardStandardStandardPoorStandardStandardPoorPoorGoodStandardStandardGoodStandardPoorGoodStandardStandardStandardPoorPoorStandardPoorPoorStandardStandardStandardPoorStandardStandardPoorStandardStandardGoodStandardStandardStandardStandardStandardStandardGoodStandardPoorPoorPoorPoorStandardPoorStandardGoodPoorPoorStandardStandardStandardGoodGoodGoodStandardPoorStandardPoorPoorPoorPoorPoorStandardStandardGoodPoorPoorStandardStandardStandardPoorStandardStandardPoorStandardPoorStandardGoodGoodGoodGoodPoorStandardPoorStandardStandardPoorStandardGoodGoodStandardStandardGoodStandardPoorStandardStandardStandardPoorStandardStandardPoorStandardPoorStandardPoorGoodStandardPoorStandardPoorPoorGoodStandardGoodGoodStandardStandardGoodPoorPoorPoorStandardGoodGoodStandardPoorStandardStandardGoodStandardStandardStandardStandardGoodStandardGoodStandardStandardStandardPoorGoodStandardPoorPoorPoorStandardStandardPoorStandardPoorPoorStandardPoorPoorGoodStandardStandardGoodStandardPoorGoodStandardPoorStandardStandardPoorStandardGoodStandardPoorStandardPoorStandardPoorPoorStandardStandardPoorPoorStandardPoorPoorGoodStandardPoorGoodGoodGoodPoorStandardStandardPoorGoodPoorStandardPoorStandardGoodStandardStandardGoodStandardPoorGoodStandardStandardStandardStandardStandardPoorStandardPoorStandardGoodStandardPoorGoodStandardStandardStandardStandardStandardStandardGoodPoorStandardPoorStandardStandardPoorPoorPoorStandardGoodPoorPoorPoorPoorPoorGoodStandardGoodGoodStandardStandardGoodStandardPoorStandardPoorGoodStandardStandardGoodPoorGoodPoorGoodStandardStandardStandardGoodPoorPoorStandardGoodGoodStandardPoorGoodStandardStandardStandardPoorStandardStandardStandardPoorPoorGoodGoodPoorPoorPoorStandardStandardStandardPoorStandardPoorPoorStandardStandardStandardPoorStandardStandardStandardStandardStandardStandardPoorStandardGoodStandardStandardStandardStandardStandardGoodPoorStandardStandardPoorPoorPoorPoorGoodStandardGoodStandardPoorStandardStandardStandardGoodGoodStandardStandardStandardStandardPoorGoodStandardGoodStandardStandardStandardStandardStandardStandardPoorStandardStandardStandardStandardStandardStandardGoodStandardGoodStandardStandardStandardGoodStandardStandardGoodPoorPoorStandardPoorGoodPoorStandardStandardPoorPoorStandardStandardGoodStandardStandardStandardPoorPoorStandardGoodStandardStandardPoorPoorStandardPoorPoorPoorStandardPoorGoodStandardStandardStandardStandardStandardStandardGoodGoodPoorPoorPoorPoorPoorStandardStandardPoorStandardGoodGoodGoodStandardStandardGoodStandardGoodPoorStandardGoodStandardGoodPoorGoodPoorStandardStandardPoorPoorPoorPoorStandardStandardPoorPoorStandardStandardPoorPoorPoorGoodStandardGoodPoorStandardStandardStandardPoorStandardGoodStandardPoorPoorPoorPoorStandardStandardStandardStandardStandardPoorPoorStandardStandardGoodStandardStandardGoodGoodStandardGoodStandardGoodStandardStandardStandardGoodStandardPoorStandardPoorStandardGoodStandardStandardStandardGoodStandardStandardGoodGoodStandardStandardStandardStandardStandardPoorPoorStandardPoorStandardStandardStandardStandardPoorStandardGoodGoodStandardStandardPoorStandardStandardStandardPoorPoorStandardPoorPoorGoodPoorGoodStandardStandardPoorStandardStandardPoorPoorStandardPoorStandardStandardStandardGoodStandardStandardStandardGoodStandardStandardStandardPoorPoorPoorPoorPoorPoorPoorStandardPoorStandardStandardStandardGoodPoorStandardPoorPoorStandardGoodStandardGoodGoodGoodGoodGoodGoodStandardPoorPoorStandardPoorStandardStandardGoodStandardGoodStandardStandardPoorGoodPoorStandardStandardStandardPoorPoorPoorStandardPoorStandardStandardPoorGoodStandardStandardStandardStandardStandardGoodStandardPoorGoodPoorPoorStandardStandardPoorStandardStandardStandardPoorStandardStandardGoodGoodPoorPoorGoodPoorPoorPoorStandardStandardPoorStandardPoorPoorGoodStandardPoorGoodPoorPoorStandardStandardStandardStandardStandardPoorPoorPoorStandardStandardGoodStandardStandardStandardPoorPoorGoodPoorGoodPoorStandardPoorStandardGoodStandardPoorStandardPoorStandardGoodPoorStandardStandardStandardStandardStandardGoodStandardStandardStandardStandardStandardPoorPoorStandardPoorStandardGoodPoorGoodStandardGoodStandardStandardStandardGoodStandardPoorStandardStandardStandardStandardPoorGoodStandardGoodPoorGoodStandardPoorStandardStandardGoodStandardStandardStandardStandardPoorPoorStandardStandardStandardPoorStandardStandardStandardGoodStandardStandardStandardPoorStandardStandardStandardGoodPoorStandardPoorStandardStandardGoodStandardGoodStandardPoorPoorPoorGoodStandardPoorStandardPoorStandardStandardGoodStandardGoodStandardPoorStandardStandardPoorStandardGoodStandardStandardStandardStandardStandardStandardPoorStandardPoorStandardStandardPoorStandardPoorStandardGoodStandardPoorStandardPoorStandardPoorPoorGoodStandardPoorStandardStandardPoorGoodStandardStandardGoodStandardStandardStandardStandardPoorStandardPoorPoorStandardStandardStandardStandardPoorGoodStandardGoodPoorStandardGoodPoorGoodGoodPoorStandardStandardGoodStandardStandardStandardStandardStandardStandardStandardStandardStandardPoorPoorGoodStandardGoodStandardPoorStandardStandardStandardPoorPoorStandardStandardPoorStandardStandardGoodPoorGoodStandardPoorStandardStandardPoorPoorStandardPoorPoorPoorStandardStandardGoodStandardStandardStandardStandardStandardStandardPoorStandardStandardStandardPoorGoodGoodStandardStandardPoorGoodPoorStandardGoodStandardGoodStandardStandardPoorStandardStandardPoorStandardStandardStandardStandardPoorGoodPoorStandardGoodStandardPoorStandardStandardStandardPoorPoorPoorStandardPoorPoorStandardPoorPoorStandardPoorGoodGoodStandardStandardStandardGoodPoorStandardGoodPoorPoorPoorPoorStandardStandardStandardPoorPoorGoodPoorGoodStandardStandardGoodStandardGoodPoorStandardPoorPoorStandardPoorGoodStandardStandardStandardPoorGoodStandardStandardStandardPoorGoodPoorStandardStandardPoorStandardStandardPoorStandardPoorStandardStandardStandardPoorStandardStandardPoorStandardStandardStandardPoorStandardGoodStandardStandardGoodStandardPoorPoorStandardPoorStandardPoorStandardGoodStandardGoodStandardStandardStandardPoorPoorPoorStandardStandardStandardStandardPoorGoodStandardPoorStandardStandardStandardGoodStandardGoodPoorStandardStandardStandardStandardPoorStandardStandardStandardStandardStandardPoorPoorPoorStandardGoodPoorPoorGoodPoorStandardGoodPoorPoorPoorStandardPoorGoodGoodPoorStandardPoorGoodPoorPoorGoodGoodStandardStandardGoodGoodStandardStandardPoorPoorGoodPoorGoodStandardStandardStandardStandardStandardPoorStandardPoorPoorPoorPoorPoorPoorGoodStandardPoorPoorStandardPoorStandardPoorStandardPoorGoodStandardStandardStandardGoodPoorGoodGoodGoodPoorStandardStandardGoodPoorStandardStandardGoodStandardPoorStandardStandardGoodPoorStandardStandardPoorPoorStandardStandardGoodStandardPoorStandardStandardStandardPoorGoodStandardPoorStandardStandardStandardStandardStandardPoorPoorStandardStandardPoorStandardStandardPoorStandardGoodStandardStandardPoorGoodStandardStandardStandardPoorPoorStandardPoorStandardStandardStandardStandardStandardGoodStandardStandardStandardGoodStandardGoodStandardPoorStandardStandardGoodStandardStandardStandardStandardStandardGoodGoodStandardStandardPoorStandardGoodStandardStandardStandardStandardStandardStandardStandardPoorPoorStandardPoorStandardGoodStandardGoodStandardPoorPoorStandardPoorPoorStandardPoorStandardGoodStandardStandardPoorPoorStandardStandardStandardPoorGoodStandardGoodGoodStandardGoodGoodStandardStandardGoodStandardGoodStandardGoodPoorStandardStandardStandardPoorStandardStandardPoorStandardStandardStandardStandardStandardGoodPoorGoodPoorPoorStandardStandardGoodStandardStandardStandardPoorPoorStandardStandardGoodStandardStandardStandardStandardPoorStandardStandardStandardGoodStandardGoodGoodStandardStandardStandardStandardGoodPoorPoorGoodStandardGoodStandardGoodGoodStandardPoorGoodGoodStandardStandardPoorStandardStandardStandardStandardPoorStandardStandardGoodPoorPoorStandardStandardPoorStandardPoorStandardStandardStandardStandardGoodStandardStandardGoodStandardStandardPoorStandardStandardStandardStandardStandardStandardPoorPoorPoorStandardPoorPoorPoorStandardStandardPoorPoorGoodPoorStandardGoodStandardStandardStandardPoorPoorStandardPoorStandardStandardStandardPoorStandardGoodGoodPoorStandardPoorStandardPoorStandardStandardPoorPoorPoorPoorPoorStandardStandardGoodStandardStandardStandardStandardStandardGoodStandardPoorStandardStandardStandardPoorPoorStandardStandardPoorStandardStandardStandardGoodPoorPoorStandardStandardPoorStandardGoodStandardStandardPoorPoorStandardStandardStandardStandardStandardPoorStandardPoorStandardGoodGoodStandardGoodPoorGoodStandardStandardPoorStandardStandardStandardStandardPoorStandardStandardStandardStandardStandardGoodStandardGoodStandardStandardPoorPoorStandardStandardStandardGoodGoodGoodGoodPoorGoodPoorGoodStandardStandardPoorStandardStandardGoodPoorStandardPoorStandardPoorPoorGoodGoodGoodStandardPoorPoorStandardStandardStandardPoorPoorGoodGoodStandardStandardGoodStandardStandardStandardGoodStandardGoodPoorStandardPoorPoorStandardStandardPoorStandardStandardStandardGoodGoodStandardPoorStandardGoodPoorStandardPoorStandardStandardStandardStandardGoodPoorStandardPoorGoodPoorStandardStandardStandardStandardPoorStandardStandardPoorGoodGoodStandardPoorStandardGoodStandardStandardStandardGoodGoodPoorPoorGoodPoorStandardStandardPoorPoorStandardStandardStandardStandardStandardStandardGoodStandardPoorGoodStandardPoorPoorStandardStandardPoorStandardStandardStandardGoodGoodGoodPoorPoorStandardPoorStandardStandardStandardStandardStandardStandardStandardStandardStandardStandardPoorStandardStandardPoorPoorStandardStandardStandardStandardStandardGoodStandardStandardGoodPoorStandardStandardStandardStandardStandardStandardStandardStandardPoorGoodStandardStandardStandardStandardStandardStandardStandardStandardStandardPoorStandardGoodGoodStandardPoorPoorGoodStandardStandardStandardPoorPoorPoorPoorStandardGoodGoodPoorStandardGoodStandardPoorGoodGoodStandardStandardPoorStandardPoorStandardStandardPoorStandardPoorStandardStandardStandardGoodStandardPoorGoodStandardGoodGoodPoorStandardStandardPoorGoodStandardGoodStandardPoorStandardPoorStandardPoorStandardStandardStandardStandardPoorStandardPoorStandardPoorStandardStandardPoorStandardStandardPoorGoodPoorStandardStandardStandardStandardStandardPoorPoorStandardGoodStandardPoorStandardStandardGoodStandardPoorPoorPoorPoorPoorPoorStandardPoorGoodPoorStandardPoorGoodPoorStandardGoodStandardStandardStandardGoodStandardPoorStandardStandardGoodStandardStandardPoorStandardStandardStandardStandardPoorPoorPoorGoodStandardStandardStandardPoorGoodStandardStandardGoodStandardStandardStandardStandardStandardStandardStandardGoodStandardStandardGoodPoorStandardStandardStandardPoorStandardGoodPoorPoorGoodStandardStandardPoorPoorStandardPoorGoodGoodPoorPoorStandardStandardPoorStandardPoorPoorStandardStandardStandardStandardGoodGoodStandardStandardStandardPoorStandardStandardGoodGoodGoodGoodStandardPoorStandardPoorStandardStandardPoorStandardPoorStandardPoorPoorPoorStandardPoorStandardStandardStandardPoorStandardGoodStandardStandardStandardStandardPoorPoorPoorPoorStandardStandardGoodPoorStandardPoorStandardStandardPoorStandardPoorStandardPoorGoodStandardStandardStandardGoodPoorStandardPoorStandardStandardPoorGoodStandardPoorStandardStandardPoorStandardGoodGoodStandardStandardStandardPoorStandardStandardPoorStandardStandardStandardPoorStandardStandardStandardPoorGoodStandardStandardGoodPoorGoodGoodStandardGoodGoodStandardPoorStandardStandardPoorGoodStandardStandardGoodStandardStandardStandardStandardPoorStandardPoorStandardStandardPoorStandardStandardStandardStandardStandardStandardStandardPoorPoorPoorGoodStandardPoorPoorGoodPoorStandardStandardStandardPoorStandardPoorStandardGoodPoorPoorPoorPoorGoodStandardStandardStandardStandardStandardStandardGoodStandardGoodStandardStandardStandardGoodStandardStandardGoodPoorPoorPoorStandardGoodStandardStandardGoodStandardStandardStandardPoorPoorStandardStandardGoodStandardPoorGoodStandardGoodPoorPoorStandardStandardPoorPoorStandardStandardStandardPoorStandardGoodStandardGoodPoorStandardPoorStandardStandardStandardPoorStandardPoorPoorStandardPoorStandardGoodGoodStandardGoodPoorGoodStandardStandardStandardStandardStandardStandardPoorPoorPoorStandardStandardStandardStandardStandardGoodPoorPoorPoorGoodStandardStandardPoorStandardStandardPoorStandardPoorPoorGoodPoorStandardGoodStandardStandardGoodGoodStandardGoodPoorStandardPoorStandardGoodPoorStandardGoodPoorStandardStandardPoorStandardStandardPoorGoodPoorPoorGoodPoorPoorStandardGoodStandardStandardStandardStandardGoodGoodPoorGoodStandardStandardStandardStandardGoodStandardPoorStandardStandardStandardStandardStandardStandardStandardStandardStandardStandardPoorGoodStandardStandardGoodStandardPoorPoorStandardPoorGoodPoorStandardPoorStandardPoorGoodStandardPoorPoorGoodPoorPoorGoodGoodStandardGoodPoorGoodPoorPoorPoorStandardPoorStandardGoodPoorPoorStandardGoodGoodPoorGoodStandardStandardPoorStandardStandardStandardStandardStandardGoodGoodPoorPoorStandardStandardStandardPoorPoorStandardStandardPoorStandardStandardPoorStandardGoodPoorStandardGoodGoodStandardStandardStandardGoodStandardStandardPoorPoorStandardGoodStandardGoodPoorStandardGoodStandardStandardPoorStandardStandardPoorStandardStandardPoorPoorStandardStandardStandardStandardStandardGoodStandardStandardPoorStandardStandardStandardStandardStandardStandardStandardStandardGoodGoodStandardStandardPoorPoorStandardPoorPoorStandardStandardStandardGoodPoorStandardStandardStandardPoorGoodStandardStandardStandardGoodStandardPoorGoodStandardStandardStandardStandardPoorPoorStandardStandardGoodPoorStandardPoorStandardStandardStandardStandardStandardPoorPoorPoorStandardStandardStandardStandardStandardPoorPoorStandardStandardStandardGoodGoodPoorGoodGoodStandardStandardPoorPoorPoorStandardStandardPoorPoorStandardStandardGoodGoodStandardStandardPoorPoorPoorStandardStandardGoodStandardStandardPoorGoodGoodGoodStandardStandardStandardPoorStandardStandardStandardStandardGoodStandardGoodStandardGoodGoodStandardPoorGoodStandardStandardStandardGoodStandardStandardStandardPoorStandardStandardStandardStandardPoorStandardStandardPoorPoorPoorStandardStandardStandardStandardGoodGoodStandardStandardPoorStandardStandardGoodStandardStandardGoodStandardGoodStandardStandardStandardGoodPoorPoorStandardPoorPoorGoodPoorPoorPoorStandardStandardStandardGoodGoodStandardStandardGoodPoorGoodStandardStandardStandardPoorStandardStandardPoorStandardStandardStandardPoorPoorStandardStandardGoodGoodPoorStandardStandardStandardStandardPoorStandardStandardStandardGoodPoorGoodStandardStandardPoorStandardStandardStandardGoodPoorStandardStandardStandardStandardStandardStandardPoorPoorGoodStandardPoorStandardStandardStandardPoorStandardStandardStandardPoorGoodStandardGoodGoodStandardStandardStandardStandardStandardStandardGoodPoorGoodStandardGoodStandardStandardGoodStandardStandardStandardGoodPoorGoodPoorPoorStandardStandardGoodStandardPoorGoodGoodStandardStandardPoorStandardPoorStandardPoorStandardPoorStandardPoorStandardStandardStandardPoorGoodPoorPoorGoodPoorStandardPoorPoorGoodStandardGoodPoorStandardGoodStandardPoorStandardPoorGoodStandardGoodPoorGoodStandardGoodGoodPoorStandardStandardStandardPoorStandardStandardStandardStandardPoorStandardPoorPoorStandardGoodGoodStandardStandardStandardStandardStandardStandardPoorStandardPoorStandardPoorStandardPoorStandardStandardStandardGoodStandardStandardPoorStandardStandardGoodGoodStandardStandardStandardStandardPoorGoodPoorStandardStandardStandardPoorStandardPoorStandardStandardStandardPoorStandardStandardStandardStandardStandardPoorPoorStandardGoodStandardGoodStandardStandardStandardStandardPoorStandardStandardGoodStandardStandardStandardStandardStandardStandardGoodGoodStandardStandardStandardStandardStandardPoorStandardStandardStandardPoorStandardStandardStandardGoodPoorPoorGoodGoodGoodStandardStandardStandardGoodGoodPoorPoorPoorStandardStandardStandardPoorStandardPoorGoodPoorStandardGoodPoorGoodStandardStandardStandardPoorPoorPoorStandardGoodPoorGoodStandardStandardStandardStandardStandardStandardPoorStandardStandardStandardGoodGoodPoorStandardPoorStandardGoodPoorStandardPoorStandardStandardPoorPoorPoorStandardGoodStandardGoodPoorPoorPoorPoorStandardPoorPoorStandardStandardStandardPoorStandardStandardPoorStandardStandardGoodStandardStandardStandardStandardStandardPoorStandardStandardStandardStandardGoodGoodStandardPoorGoodStandardStandardPoorStandardPoorStandardPoorStandardPoorStandardStandardStandardStandardPoorStandardGoodPoorGoodGoodPoorGoodStandardStandardPoorPoorStandardGoodPoorStandardPoorStandardGoodGoodStandardPoorStandardStandardGoodPoorPoorStandardGoodPoorStandardPoorStandardStandardStandardPoorPoorStandardStandardPoorStandardPoorGoodGoodStandardPoorStandardPoorPoorStandardPoorPoorStandardGoodStandardStandardGoodPoorStandardStandardPoorStandardStandardStandardStandardPoorStandardPoorStandardStandardGoodPoorPoorGoodStandardPoorGoodPoorStandardStandardPoorGoodPoorStandardPoorStandardPoorPoorStandardPoorGoodStandardPoorGoodPoorGoodPoorStandardPoorPoorPoorStandardGoodStandardStandardPoorStandardPoorStandardStandardPoorPoorStandardPoorPoorGoodPoorGoodGoodStandardGoodPoorStandardStandardStandardStandardPoorPoorStandardStandardStandardStandardPoorPoorStandardStandardStandardStandardStandardStandardStandardGoodPoorGoodStandardPoorPoorGoodGoodPoorPoorStandardStandardGoodStandardGoodStandardStandardPoorPoorPoorStandardStandardPoorStandardGoodStandardPoorPoorGoodStandardStandardStandardStandardGoodPoorGoodPoorStandardStandardStandardStandardPoorStandardPoorStandardPoorStandardStandardPoorPoorGoodGoodStandardStandardGoodStandardStandardPoorStandardStandardStandardPoorStandardPoorGoodPoorStandardStandardGoodStandardStandardPoorStandardStandardStandardStandardStandardGoodPoorStandardStandardStandardStandardPoorPoorPoorStandardStandardStandardPoorStandardStandardGoodPoorPoorStandardGoodStandardPoorStandardPoorStandardStandardStandardStandardPoorGoodStandardPoorStandardStandardPoorStandardStandardGoodGoodGoodStandardPoorPoorStandardStandardGoodPoorStandardStandardPoorGoodPoorStandardPoorGoodPoorStandardStandardPoorStandardStandardStandardStandardStandardGoodPoorPoorGoodPoorGoodStandardPoorPoorGoodStandardPoorPoorGoodPoorGoodStandardStandardPoorStandardPoorGoodGoodStandardPoorGoodStandardPoorStandardPoorPoorStandardGoodPoorStandardStandardStandardGoodStandardStandardPoorStandardGoodPoorPoorStandardPoorGoodPoorPoorStandardStandardPoorPoorGoodStandardGoodPoorStandardStandardStandardGoodStandardGoodStandardStandardPoorStandardGoodPoorStandardStandardPoorPoorPoorStandardStandardStandardStandardStandardStandardPoorStandardGoodGoodPoorPoorStandardStandardGoodPoorStandardPoorStandardStandardStandardPoorStandardGoodStandardPoorStandardStandardStandardStandardGoodStandardStandardGoodGoodGoodPoorGoodStandardPoorPoorPoorStandardGoodGoodPoorPoorPoorStandardStandardStandardPoorPoorStandardStandardStandardStandardPoorPoorPoorPoorStandardStandardStandardStandardGoodStandardStandardPoorPoorGoodGoodStandardPoorPoorStandardPoorPoorPoorStandardPoorStandardStandardGoodPoorPoorStandardStandardStandardStandardStandardGoodStandardStandardPoorPoorStandardStandardStandardPoorStandardStandardPoorStandardStandardPoorStandardPoorPoorGoodPoorStandardPoorPoorGoodStandardStandardPoorPoorStandardGoodStandardGoodPoorPoorStandardPoorPoorStandardStandardStandardGoodStandardGoodGoodPoorStandardStandardStandardStandardStandardStandardStandardPoorStandardPoorPoorStandardStandardGoodPoorGoodStandardPoorGoodStandardStandardGoodPoorStandardPoorStandardStandardStandardStandardPoorPoorStandardStandardStandardGoodGoodStandardGoodPoorGoodPoorGoodStandardGoodStandardStandardPoorPoorGoodStandardStandardPoorPoorGoodStandardPoorStandardStandardStandardStandardStandardStandardPoorPoorStandardStandardStandardStandardGoodGoodStandardPoorStandardStandardStandardPoorGoodGoodStandardStandardPoorGoodStandardPoorStandardGoodPoorStandardStandardGoodStandardStandardStandardPoorStandardStandardStandardPoorStandardStandardStandardStandardPoorGoodStandardGoodPoorStandardStandardStandardStandardGoodStandardStandardStandardStandardGoodStandardPoorStandardGoodStandardGoodGoodStandardGoodStandardGoodPoorPoorStandardGoodPoorStandardPoorPoorStandardStandardStandardStandardPoorStandardGoodStandardStandardStandardPoorPoorGoodStandardStandardGoodPoorPoorStandardGoodPoorStandardPoorPoorGoodGoodPoorStandardPoorStandardStandardPoorPoorPoorPoorPoorPoorStandardGoodPoorStandardStandardStandardGoodStandardStandardStandardGoodStandardStandardPoorStandardPoorGoodPoorStandardStandardGoodGoodStandardStandardStandardStandardStandardGoodPoorStandardStandardStandardStandardGoodGoodStandardStandardStandardStandardGoodGoodStandardStandardStandardStandardStandardStandardPoorGoodStandardGoodGoodPoorStandardPoorGoodStandardStandardStandardStandardPoorPoorPoorStandardStandardStandardStandardPoorGoodPoorGoodPoorGoodPoorStandardStandardStandardStandardStandardPoorGoodStandardStandardStandardPoorStandardPoorStandardGoodStandardStandardStandardGoodGoodStandardStandardPoorPoorStandardPoorGoodStandardStandardPoorPoorStandardStandardStandardPoorPoorStandardStandardStandardPoorPoorStandardStandardStandardPoorGoodStandardPoorPoorPoorStandardStandardStandardStandardPoorStandardPoorStandardGoodStandardGoodPoorPoorPoorPoorPoorPoorPoorGoodStandardStandardStandardPoorStandardStandardStandardGoodGoodPoorPoorPoorPoorStandardPoorStandardStandardPoorStandardGoodStandardPoorGoodStandardStandardGoodPoorGoodStandardStandardPoorPoorPoorStandardStandardPoorPoorStandardStandardPoorStandardStandardStandardPoorStandardStandardGoodPoorStandardPoorGoodPoorStandardGoodPoorGoodPoorStandardStandardStandardStandardGoodStandardStandardPoorStandardStandardStandardStandardStandardStandardStandardStandardPoorPoorPoorGoodStandardPoorStandardPoorStandardStandardPoorStandardPoorStandardPoorStandardGoodStandardGoodStandardStandardPoorStandardGoodStandardStandardStandardStandardStandardStandardStandardStandardStandardStandardPoorStandardPoorPoorGoodPoorStandardPoorGoodStandardPoorPoorGoodStandardGoodStandardPoorStandardGoodPoorPoorStandardStandardStandardGoodGoodPoorStandardStandardGoodStandardStandardStandardStandardPoorPoorStandardPoorPoorPoorGoodStandardPoorGoodStandardPoorStandardStandardStandardGoodStandardPoorPoorStandardPoorGoodPoorStandardStandardPoorPoorPoorGoodStandardStandardGoodPoorStandardPoorStandardPoorPoorPoorGoodGoodStandardGoodStandardGoodStandardStandardStandardGoodStandardStandardStandardStandardPoorStandardPoorStandardGoodPoorStandardStandardStandardGoodStandardPoorStandardGoodPoorPoorStandardPoorStandardPoorPoorPoorPoorStandardStandardGoodStandardPoorPoorPoorGoodStandardStandardStandardStandardGoodGoodPoorGoodStandardStandardStandardStandardGoodStandardPoorStandardPoorPoorPoorPoorGoodPoorStandardPoorGoodStandardStandardStandardGoodPoorPoorPoorStandardPoorGoodPoorStandardStandardPoorStandardPoorStandardStandardStandardStandardStandardGoodPoorPoorStandardPoorStandardStandardPoorPoorStandardPoorPoorStandardGoodPoorStandardPoorPoorStandardStandardStandardPoorGoodGoodStandardPoorPoorGoodPoorPoorGoodStandardGoodPoorStandardPoorStandardStandardGoodPoorPoorStandardPoorStandardStandardPoorStandardGoodStandardStandardPoorStandardPoorPoorPoorPoorStandardStandardPoorStandardStandardStandardStandardPoorGoodStandardStandardStandardPoorGoodPoorStandardStandardStandardPoorStandardGoodStandardPoorStandardStandardStandardStandardStandardStandardPoorGoodGoodStandardStandardPoorPoorStandardStandardGoodPoorStandardGoodStandardStandardStandardGoodStandardStandardStandardStandardStandardStandardPoorStandardStandardGoodGoodGoodGoodStandardStandardStandardStandardStandardPoorPoorStandardStandardPoorStandardGoodPoorGoodPoorStandardPoorPoorStandardPoorGoodStandardStandardGoodPoorPoorStandardPoorPoorPoorStandardGoodPoorPoorStandardPoorPoorStandardStandardStandardPoorStandardStandardPoorStandardStandardStandardStandardGoodStandardPoorPoorGoodGoodGoodStandardGoodStandardStandardPoorGoodStandardStandardGoodPoorPoorGoodStandardGoodPoorStandardStandardPoorStandardStandardGoodGoodGoodStandardPoorPoorStandardGoodPoorStandardPoorGoodStandardGoodGoodPoorStandardGoodStandardGoodGoodGoodStandardStandardStandardStandardStandardPoorStandardGoodPoorPoorStandardStandardPoorGoodGoodStandardStandardPoorStandardGoodPoorPoorGoodStandardStandardStandardPoorGoodStandardStandardStandardStandardStandardStandardStandardGoodStandardPoorStandardStandardPoorPoorStandardPoorStandardStandardStandardStandardGoodStandardGoodStandardStandardPoorStandardStandardStandardStandardStandardStandardStandardPoorStandardStandardStandardGoodStandardPoorStandardPoorPoorStandardGoodPoorPoorStandardGoodPoorStandardStandardStandardStandardPoorStandardStandardGoodStandardPoorStandardStandardStandardGoodStandardGoodStandardStandardPoorGoodPoorStandardStandardGoodGoodPoorGoodPoorStandardPoorGoodGoodPoorStandardStandardStandardStandardGoodGoodGoodStandardStandardStandardGoodStandardGoodGoodPoorGoodPoorStandardStandardStandardPoorStandardStandardStandardGoodStandardStandardStandardStandardStandardPoorPoorPoorPoorPoorGoodGoodStandardGoodStandardGoodGoodPoorGoodStandardStandardPoorGoodStandardStandardStandardPoorPoorPoorPoorStandardPoorPoorStandardStandardStandardStandardPoorStandardGoodGoodStandardStandardPoorGoodStandardPoorStandardStandardPoorPoorPoorStandardPoorPoorStandardStandardPoorStandardGoodPoorGoodPoorStandardGoodStandardGoodPoorStandardGoodStandardPoorGoodPoorStandardGoodStandardStandardGoodStandardStandardPoorStandardStandardStandardPoorPoorStandardStandardStandardGoodGoodStandardGoodStandardPoorStandardGoodPoorStandardStandardPoorStandardStandardStandardPoorStandardStandardPoorStandardStandardGoodGoodPoorPoorStandardPoorPoorGoodStandardGoodStandardPoorPoorStandardGoodStandardStandardStandardStandardStandardGoodStandardStandardPoorStandardStandardGoodStandardPoorStandardStandardPoorPoorPoorPoorStandardPoorGoodStandardGoodPoorStandardStandardStandardGoodPoorStandardStandardGoodPoorPoorPoorPoorStandardGoodGoodStandardPoorStandardPoorGoodStandardStandardStandardStandardPoorGoodStandardGoodPoorGoodStandardGoodStandardStandardPoorStandardStandardPoorStandardPoorPoorPoorStandardStandardStandardGoodGoodPoorPoorStandardPoorStandardPoorStandardStandardStandardPoorStandardStandardStandardGoodPoorStandardPoorPoorPoorStandardGoodStandardPoorGoodStandardPoorStandardPoorStandardPoorGoodStandardStandardPoorStandardStandardStandardGoodPoorPoorStandardStandardStandardPoorGoodPoorGoodStandardGoodPoorGoodGoodStandardPoorPoorPoorStandardGoodStandardStandardGoodStandardStandardStandardStandardStandardPoorStandardStandardPoorGoodGoodGoodGoodPoorGoodStandardPoorPoorStandardGoodStandardPoorPoorPoorPoorGoodPoorStandardPoorStandardStandardStandardGoodPoorStandardGoodStandardStandardStandardPoorStandardPoorGoodPoorPoorGoodStandardStandardPoorPoorPoorStandardGoodStandardGoodPoorStandardStandardGoodPoorPoorGoodGoodGoodGoodStandardGoodStandardStandardGoodStandardStandardGoodStandardGoodGoodStandardPoorStandardStandardPoorPoorPoorStandardPoorGoodStandardGoodStandardPoorStandardPoorPoorGoodStandardStandardGoodStandardGoodPoorPoorPoorGoodStandardStandardStandardStandardStandardGoodPoorPoorPoorGoodStandardStandardPoorGoodStandardPoorStandardStandardGoodStandardPoorStandardStandardPoorPoorPoorStandardStandardPoorPoorStandardStandardGoodPoorStandardStandardStandardPoorPoorPoorGoodGoodGoodStandardStandardStandardPoorStandardPoorPoorStandardPoorPoorStandardStandardPoorStandardStandardStandardPoorStandardStandardStandardStandardGoodStandardStandardGoodStandardStandardGoodStandardStandardPoorStandardPoorStandardStandardGoodStandardStandardStandardPoorStandardGoodPoorStandardStandardStandardStandardStandardStandardPoorGoodPoorStandardGoodPoorStandardStandardPoorGoodGoodStandardPoorStandardPoorStandardGoodPoorGoodPoorPoorStandardPoorPoorGoodPoorGoodStandardPoorStandardStandardStandardStandardPoorGoodPoorStandardStandardStandardStandardGoodGoodPoorPoorPoorPoorPoorPoorPoorPoorStandardPoorGoodGoodStandardPoorPoorPoorStandardStandardPoorPoorPoorStandardPoorPoorGoodPoorStandardPoorPoorStandardStandardStandardGoodPoorPoorPoorStandardStandardStandardPoorGoodGoodGoodStandardGoodStandardStandardPoorPoorStandardGoodPoorStandardStandardPoorStandardGoodGoodPoorPoorPoorGoodStandardStandardGoodStandardPoorPoorStandardStandardGoodGoodStandardStandardStandardPoorPoorPoorGoodGoodGoodStandardStandardPoorGoodStandardPoorPoorStandardStandardPoorStandardGoodGoodStandardStandardPoorStandardPoorPoorGoodStandardStandardPoorStandardStandardStandardPoorGoodGoodStandardPoorPoorStandardPoorGoodGoodStandardStandardPoorGoodPoorStandardStandardStandardPoorGoodStandardStandardStandardStandardPoorPoorPoorPoorStandardStandardPoorStandardStandardGoodStandardStandardStandardGoodPoorStandardStandardPoorStandardStandardStandardStandardStandardStandardStandardStandardPoorPoorGoodStandardStandardPoorStandardStandardPoorPoorStandardStandardStandardStandardPoorPoorPoorPoorStandardStandardStandardPoorStandardGoodStandardStandardStandardGoodPoorStandardPoorPoorStandardPoorPoorStandardGoodStandardStandardStandardStandardGoodGoodStandardStandardGoodPoorStandardStandardPoorStandardGoodGoodStandardStandardPoorGoodPoorStandardStandardStandardStandardGoodStandardStandardPoorGoodStandardStandardStandardStandardPoorPoorStandardGoodStandardPoorGoodStandardStandardStandardGoodStandardStandardPoorStandardGoodStandardStandardPoorStandardPoorGoodPoorGoodGoodStandardGoodStandardStandardGoodStandardStandardPoorStandardStandardPoorGoodGoodPoorGoodStandardGoodStandardStandardStandardPoorStandardPoorStandardGoodStandardStandardStandardStandardStandardStandardGoodPoorStandardStandardStandardStandardPoorStandardGoodPoorStandardGoodStandardStandardStandardStandardStandardStandardStandardStandardStandardStandardStandardStandardGoodPoorStandardGoodStandardStandardPoorStandardStandardPoorStandardStandardGoodStandardPoorStandardStandardPoorStandardPoorStandardStandardStandardPoorPoorStandardGoodStandardPoorPoorStandardStandardStandardPoorStandardStandardPoorGoodStandardGoodStandardGoodPoorGoodGoodGoodStandardGoodPoorPoorStandardStandardStandardGoodPoorStandardStandardStandardStandardStandardStandardStandardPoorGoodGoodStandardStandardStandardPoorGoodPoorStandardStandardPoorStandardStandardPoorStandardPoorStandardStandardGoodPoorStandardStandardPoorStandardStandardGoodPoorStandardPoorPoorStandardStandardStandardStandardGoodStandardPoorStandardGoodStandardStandardGoodStandardStandardStandardStandardStandardStandardStandardPoorGoodPoorPoorPoorStandardStandardStandardStandardPoorStandardStandardStandardStandardStandardStandardStandardStandardStandardStandardGoodPoorStandardStandardPoorStandardStandardStandardStandardGoodGoodPoorStandardGoodPoorStandardPoorStandardStandardStandardPoorStandardPoorStandardGoodGoodPoorPoorStandardPoorStandardPoorStandardGoodStandardStandardGoodStandardPoorPoorPoorGoodPoorPoorPoorStandardPoorPoorGoodStandardPoorStandardGoodStandardStandardStandardGoodStandardStandardStandardPoorPoorPoorStandardStandardStandardPoorPoorPoorStandardStandardPoorStandardPoorStandardStandardGoodStandardStandardPoorStandardGoodStandardPoorStandardPoorPoorGoodGoodGoodPoorStandardPoorStandardPoorGoodStandardStandardGoodGoodStandardStandardStandardStandardStandardGoodStandardGoodStandardStandardStandardPoorPoorStandardStandardStandardGoodStandardPoorStandardPoorGoodStandardStandardStandardStandardGoodStandardStandardGoodGoodPoorStandardGoodPoorGoodGoodPoorStandardStandardPoorStandardGoodGoodPoorPoorStandardPoorStandardStandardPoorStandardPoorStandardPoorStandardStandardStandardPoorStandardStandardStandardGoodStandardPoorStandardStandardPoorStandardGoodPoorStandardStandardPoorGoodPoorStandardStandardStandardPoorPoorStandardStandardPoorStandardStandardPoorPoorGoodGoodGoodStandardStandardPoorStandardGoodStandardStandardStandardPoorStandardStandardGoodGoodPoorGoodStandardStandardGoodPoorGoodStandardGoodGoodPoorStandardGoodStandardGoodGoodPoorPoorStandardPoorStandardStandardStandardPoorStandardPoorStandardPoorStandardPoorPoorPoorStandardGoodPoorGoodStandardStandardStandardStandardStandardPoorStandardPoorStandardStandardStandardGoodStandardStandardPoorPoorStandardStandardStandardStandardPoorGoodStandardGoodStandardPoorStandardStandardStandardPoorStandardGoodGoodStandardGoodStandardPoorPoorStandardStandardStandardStandardStandardPoorPoorPoorStandardStandardStandardPoorStandardPoorPoorPoorPoorStandardPoorPoorStandardGoodPoorGoodPoorStandardStandardPoorPoorStandardStandardStandardPoorStandardStandardStandardStandardPoorPoorGoodPoorStandardPoorStandardPoorStandardStandardPoorStandardPoorPoorStandardPoorPoorStandardStandardStandardStandardGoodStandardPoorStandardPoorStandardGoodStandardStandardPoorStandardPoorPoorStandardStandardStandardPoorGoodPoorStandardStandardStandardGoodStandardPoorStandardPoorPoorGoodStandardPoorStandardPoorStandardPoorPoorStandardGoodPoorStandardStandardStandardStandardStandardStandardStandardPoorStandardPoorGoodStandardStandardGoodGoodStandardGoodPoorStandardPoorStandardStandardStandardStandardStandardPoorGoodStandardStandardGoodGoodStandardGoodPoorStandardStandardStandardPoorGoodStandardStandardStandardGoodGoodStandardStandardStandardStandardGoodGoodPoorGoodStandardStandardPoorStandardStandardPoorStandardPoorPoorStandardPoorPoorStandardPoorGoodStandardStandardStandardGoodStandardStandardGoodPoorStandardStandardStandardStandardStandardGoodStandardGoodStandardStandardPoorStandardStandardGoodPoorPoorGoodStandardPoorGoodStandardGoodStandardPoorGoodGoodPoorStandardStandardPoorGoodStandardStandardStandardGoodGoodGoodPoorStandardPoorStandardStandardGoodStandardStandardStandardGoodPoorPoorPoorGoodGoodPoorStandardStandardStandardPoorStandardStandardStandardStandardStandardGoodGoodGoodStandardStandardStandardGoodGoodStandardStandardGoodStandardStandardStandardStandardStandardGoodStandardStandardGoodPoorStandardStandardGoodStandardGoodPoorStandardStandardStandardStandardGoodStandardGoodPoorStandardStandardStandardStandardStandardPoorStandardPoorStandardStandardStandardPoorPoorStandardPoorStandardStandardPoorPoorStandardPoorStandardStandardGoodStandardStandardStandardStandardStandardStandardGoodStandardPoorGoodPoorGoodGoodGoodStandardStandardPoorPoorStandardPoorStandardPoorStandardStandardPoorPoorPoorGoodPoorGoodPoorGoodPoorStandardGoodStandardStandardPoorStandardPoorStandardPoorGoodGoodStandardStandardStandardStandardPoorStandardPoorPoorPoorStandardGoodPoorPoorStandardGoodPoorStandardGoodStandardStandardGoodStandardPoorPoorStandardPoorStandardGoodStandardStandardStandardStandardStandardStandardStandardPoorGoodGoodStandardStandardStandardStandardStandardStandardPoorPoorPoorStandardStandardGoodGoodGoodStandardGoodGoodStandardStandardGoodStandardStandardStandardStandardPoorGoodStandardStandardStandardGoodStandardStandardStandardPoorPoorGoodStandardPoorStandardStandardStandardGoodStandardPoorStandardPoorPoorPoorGoodGoodPoorStandardStandardGoodStandardPoorPoorStandardGoodGoodGoodPoorGoodPoorStandardGoodGoodStandardGoodStandardGoodPoorStandardStandardPoorStandardStandardPoorGoodStandardStandardPoorStandardPoorStandardStandardGoodStandardStandardStandardPoorStandardStandardStandardStandardStandardStandardPoorGoodPoorStandardGoodStandardGoodGoodStandardStandardStandardStandardStandardPoorStandardPoorStandardStandardGoodPoorStandardPoorStandardGoodPoorStandardStandardGoodStandardStandardPoorStandardPoorStandardGoodStandardStandardStandardGoodPoorGoodGoodPoorPoorGoodStandardPoorStandardStandardStandardStandardStandardGoodGoodStandardGoodStandardStandardPoorPoorPoorStandardStandardStandardStandardPoorStandardStandardGoodPoorGoodGoodPoorPoorPoorGoodPoorPoorStandardPoorStandardStandardPoorStandardPoorStandardStandardStandardStandardStandardStandardStandardGoodPoorPoorGoodStandardStandardStandardPoorStandardPoorStandardStandardStandardStandardGoodPoorGoodStandardStandardStandardPoorPoorPoorGoodPoorPoorStandardStandardStandardPoorPoorStandardStandardPoorGoodGoodPoorStandardStandardGoodStandardStandardPoorPoorPoorPoorStandardGoodStandardGoodStandardGoodPoorGoodStandardStandardPoorGoodGoodStandardGoodStandardStandardStandardStandardPoorStandardStandardStandardStandardStandardStandardPoorGoodStandardPoorStandardPoorPoorStandardGoodStandardStandardStandardGoodPoorPoorPoorPoorStandardStandardPoorPoorPoorStandardStandardStandardPoorStandardStandardStandardPoorPoorPoorGoodPoorStandardStandardStandardStandardStandardStandardStandardPoorGoodStandardStandardPoorPoorGoodStandardGoodStandardStandardPoorStandardGoodStandardGoodPoorGoodGoodStandardPoorPoorStandardPoorGoodPoorStandardPoorPoorPoorStandardGoodGoodStandardGoodPoorStandardStandardStandardStandardStandardStandardStandardStandardStandardPoorPoorStandardPoorPoorStandardStandardStandardStandardStandardStandardStandardStandardStandardStandardStandardStandardPoorStandardStandardPoorPoorPoorGoodPoorStandardStandardGoodPoorStandardStandardStandardStandardGoodStandardStandardStandardPoorPoorPoorGoodStandardStandardStandardPoorGoodStandardPoorGoodStandardStandardStandardStandardStandardStandardStandardStandardStandardStandardStandardPoorPoorStandardStandardStandardStandardGoodGoodPoorStandardPoorStandardStandardStandardGoodGoodStandardStandardPoorStandardPoorStandardStandardStandardStandardStandardStandardGoodStandardPoorStandardStandardPoorStandardGoodStandardStandardStandardStandardPoorPoorPoorPoorStandardStandardStandardPoorStandardGoodStandardStandardStandardStandardStandardStandardStandardPoorStandardPoorGoodStandardStandardStandardPoorPoorStandardStandardStandardStandardStandardStandardStandardStandardStandardPoorStandardGoodStandardStandardStandardGoodGoodPoorStandardStandardStandardStandardStandardPoorPoorStandardGoodStandardStandardStandardPoorStandardStandardStandardStandardStandardStandardStandardStandardStandardGoodPoorStandardPoorStandardPoorGoodPoorStandardPoorStandardStandardStandardPoorPoorStandardStandardStandardStandardStandardGoodStandardGoodStandardStandardStandardGoodStandardPoorGoodStandardStandardPoorStandardStandardPoorStandardStandardStandardStandardStandardGoodStandardStandardStandardStandardStandardStandardStandardGoodGoodPoorStandardStandardStandardPoorStandardStandardGoodPoorStandardStandardStandardStandardPoorPoorPoorPoorGoodGoodPoorStandardGoodPoorStandardStandardGoodStandardGoodGoodGoodStandardStandardStandardGoodStandardGoodStandardPoorPoorPoorStandardGoodStandardStandardStandardPoorStandardPoorPoorStandardStandardStandardStandardStandardPoorStandardStandardStandardStandardGoodPoorPoorGoodStandardPoorPoorGoodPoorStandardStandardStandardStandardStandardGoodPoorGoodPoorPoorPoorGoodStandardPoorPoorGoodStandardStandardStandardStandardPoorPoorPoorGoodGoodPoorStandardPoorGoodStandardStandardPoorStandardPoorStandardStandardStandardGoodStandardStandardPoorPoorGoodGoodStandardPoorStandardStandardGoodStandardPoorStandardPoorStandardStandardGoodPoorPoorPoorPoorPoorStandardPoorStandardGoodPoorStandardPoorGoodPoorStandardStandardStandardStandardStandardStandardPoorStandardPoorStandardStandardPoorStandardPoorGoodPoorStandardPoorPoorPoorStandardPoorStandardPoorStandardStandardPoorGoodPoorPoorGoodStandardPoorStandardStandardStandardGoodStandardGoodPoorStandardPoorGoodGoodStandardStandardStandardStandardPoorGoodStandardPoorStandardStandardPoorPoorPoorPoorPoorPoorPoorPoorPoorStandardGoodGoodStandardPoorStandardStandardGoodPoorStandardPoorStandardStandardStandardPoorStandardStandardStandardPoorPoorStandardStandardStandardPoorGoodStandardPoorPoorStandardStandardGoodStandardStandardStandardStandardGoodStandardStandardStandardPoorStandardPoorPoorStandardStandardStandardPoorStandardPoorPoorPoorPoorStandardGoodStandardPoorPoorStandardPoorStandardGoodGoodStandardStandardStandardPoorPoorStandardGoodPoorPoorStandardStandardStandardStandardStandardPoorStandardStandardGoodStandardStandardStandardStandardGoodPoorStandardPoorGoodStandardPoorStandardPoorStandardStandardStandardPoorPoorStandardStandardGoodGoodStandardPoorGoodStandardStandardGoodStandardStandardStandardGoodStandardGoodGoodStandardGoodGoodStandardGoodPoorStandardPoorStandardPoorGoodPoorGoodPoorStandardPoorStandardStandardStandardStandardPoorGoodPoorGoodPoorStandardStandardStandardStandardPoorStandardStandardGoodGoodPoorPoorStandardStandardStandardStandardStandardGoodStandardStandardGoodGoodGoodStandardStandardPoorPoorPoorStandardGoodStandardPoorGoodStandardStandardGoodStandardStandardPoorStandardPoorStandardPoorStandardStandardGoodPoorStandardPoorStandardGoodStandardPoorStandardPoorPoorGoodStandardStandardStandardStandardStandardGoodStandardStandardStandardStandardGoodStandardStandardPoorStandardStandardPoorStandardGoodGoodPoorStandardGoodStandardGoodStandardGoodPoorStandardStandardGoodPoorStandardGoodPoorPoorStandardStandardPoorPoorStandardGoodStandardGoodPoorPoorPoorPoorStandardGoodStandardStandardStandardGoodPoorStandardPoorPoorStandardStandardStandardStandardStandardPoorStandardPoorStandardGoodStandardStandardStandardStandardStandardPoorStandardPoorPoorStandardPoorStandardGoodGoodPoorStandardPoorStandardStandardGoodPoorStandardStandardStandardPoorGoodStandardGoodPoorStandardStandardPoorGoodStandardGoodPoorPoorPoorStandardGoodStandardStandardStandardStandardStandardPoorStandardStandardStandardPoorPoorPoorPoorPoorStandardPoorStandardStandardGoodGoodStandardStandardStandardPoorGoodPoorStandardStandardGoodStandardGoodStandardPoorPoorStandardPoorStandardPoorGoodStandardStandardPoorPoorGoodPoorStandardStandardPoorStandardPoorStandardStandardStandardPoorStandardPoorGoodStandardGoodStandardStandardStandardStandardGoodGoodStandardStandardGoodStandardGoodStandardPoorGoodStandardPoorStandardStandardGoodPoorGoodStandardStandardGoodPoorPoorGoodStandardStandardStandardStandardStandardStandardStandardPoorPoorStandardPoorStandardPoorStandardStandardGoodGoodGoodGoodPoorGoodPoorStandardStandardStandardStandardPoorPoorGoodPoorStandardPoorStandardStandardGoodStandardStandardPoorGoodStandardGoodStandardStandardStandardStandardStandardStandardPoorPoorGoodPoorGoodPoorStandardStandardStandardPoorGoodGoodPoorPoorStandardGoodStandardPoorStandardStandardStandardGoodStandardStandardPoorStandardGoodGoodPoorStandardGoodGoodStandardGoodGoodGoodStandardGoodStandardStandardStandardStandardGoodGoodPoorGoodPoorStandardStandardStandardStandardPoorPoorGoodPoorGoodStandardStandardPoorStandardStandardStandardStandardGoodGoodPoorPoorStandardPoorPoorStandardPoorGoodStandardPoorGoodPoorStandardStandardStandardPoorPoorGoodPoorStandardGoodStandardStandardStandardPoorPoorStandardPoorStandardPoorGoodPoorPoorPoorPoorPoorPoorPoorPoorPoorGoodPoorPoorStandardStandardStandardStandardStandardGoodPoorPoorStandardGoodGoodGoodStandardStandardStandardPoorPoorGoodPoorGoodStandardPoorStandardGoodStandardStandardPoorStandardPoorPoorPoorStandardGoodStandardGoodPoorStandardStandardStandardStandardPoorPoorStandardGoodPoorStandardPoorGoodPoorPoorGoodPoorStandardStandardPoorStandardStandardPoorStandardPoorStandardPoorPoorPoorGoodPoorStandardStandardGoodStandardGoodGoodStandardStandardStandardStandardGoodStandardPoorGoodPoorGoodStandardStandardPoorStandardGoodGoodPoorStandardStandardGoodStandardPoorStandardStandardStandardStandardPoorPoorPoorStandardPoorStandardStandardStandardGoodGoodPoorStandardPoorPoorPoorStandardPoorGoodStandardStandardStandardStandardStandardPoorStandardStandardPoorPoorGoodStandardStandardGoodStandardGoodStandardStandardGoodStandardStandardStandardGoodStandardStandardPoorStandardPoorPoorStandardStandardStandardGoodStandardPoorStandardGoodPoorGoodStandardGoodStandardStandardStandardStandardStandardStandardStandardStandardPoorPoorStandardPoorStandardStandardStandardStandardStandardStandardGoodStandardPoorStandardStandardGoodStandardStandardPoorPoorGoodStandardStandardStandardStandardPoorStandardGoodPoorStandardGoodPoorStandardStandardPoorPoorPoorStandardStandardStandardStandardPoorGoodGoodStandardStandardPoorGoodStandardStandardStandardPoorPoorStandardStandardPoorStandardPoorPoorPoorGoodPoorStandardPoorStandardPoorPoorGoodStandardStandardPoorGoodStandardPoorStandardGoodPoorStandardPoorStandardStandardStandardStandardPoorStandardStandardStandardStandardPoorPoorStandardStandardStandardStandardGoodStandardGoodStandardPoorStandardPoorStandardStandardStandardStandardStandardStandardPoorStandardPoorPoorGoodPoorStandardStandardStandardGoodPoorStandardStandardPoorStandardGoodGoodGoodStandardPoorStandardGoodStandardStandardStandardStandardGoodStandardPoorStandardStandardStandardStandardStandardPoorPoorGoodStandardPoorStandardGoodStandardStandardPoorStandardStandardPoorGoodStandardPoorStandardGoodPoorGoodPoorPoorStandardStandardStandardGoodPoorStandardStandardPoorPoorPoorStandardStandardPoorStandardPoorStandardStandardStandardStandardGoodStandardStandardStandardPoorPoorStandardPoorGoodStandardStandardGoodPoorPoorStandardPoorPoorStandardStandardPoorStandardStandardGoodStandardPoorStandardGoodGoodStandardStandardStandardStandardStandardStandardStandardPoorStandardStandardStandardPoorStandardStandardStandardPoorStandardPoorStandardStandardStandardStandardStandardGoodStandardStandardPoorStandardPoorStandardPoorStandardPoorStandardStandardGoodStandardStandardGoodGoodStandardStandardStandardPoorStandardStandardPoorGoodStandardPoorStandardGoodGoodStandardStandardPoorGoodPoorPoorPoorPoorStandardStandardStandardStandardStandardGoodStandardPoorPoorPoorStandardStandardStandardStandardStandardGoodPoorStandardPoorGoodStandardPoorPoorGoodPoorGoodGoodPoorStandardGoodGoodStandardStandardStandardStandardStandardGoodGoodStandardStandardGoodStandardStandardStandardStandardStandardStandardStandardStandardGoodGoodStandardGoodStandardPoorStandardGoodPoorGoodStandardGoodGoodPoorGoodStandardStandardPoorStandardStandardStandardStandardStandardPoorStandardStandardStandardGoodStandardPoorGoodStandardStandardPoorGoodStandardStandardGoodStandardStandardGoodStandardPoorPoorStandardStandardPoorStandardGoodGoodPoorStandardPoorPoorGoodStandardGoodStandardPoorStandardStandardPoorStandardGoodStandardPoorStandardGoodPoorStandardGoodPoorGoodPoorPoorPoorGoodStandardGoodPoorGoodStandardStandardPoorPoorGoodPoorGoodGoodPoorGoodStandardStandardStandardPoorStandardPoorStandardPoorStandardStandardStandardPoorStandardStandardPoorStandardGoodGoodStandardStandardGoodStandardStandardGoodPoorPoorStandardPoorPoorStandardStandardGoodStandardGoodStandardStandardStandardStandardPoorPoorPoorStandardGoodPoorStandardStandardStandardStandardGoodStandardStandardStandardGoodGoodStandardGoodStandardGoodPoorGoodStandardStandardPoorStandardGoodStandardStandardPoorPoorStandardStandardGoodStandardStandardPoorStandardStandardPoorStandardStandardPoorStandardStandardPoorPoorGoodStandardStandardPoorStandardStandardPoorStandardPoorPoorStandardPoorGoodStandardPoorPoorStandardStandardStandardStandardGoodGoodPoorStandardPoorPoorStandardStandardPoorGoodStandardPoorStandardStandardStandardStandardStandardPoorStandardStandardStandardPoorGoodStandardGoodGoodGoodPoorStandardStandardGoodGoodPoorStandardPoorStandardStandardGoodPoorStandardPoorStandardStandardPoorPoorPoorStandardStandardPoorPoorStandardGoodStandardGoodStandardStandardStandardGoodPoorStandardStandardStandardStandardStandardStandardPoorGoodStandardGoodPoorGoodStandardPoorStandardStandardPoorGoodGoodGoodStandardStandardStandardStandardPoorGoodStandardPoorPoorStandardPoorGoodStandardStandardPoorPoorStandardGoodGoodStandardGoodPoorStandardStandardPoorPoorStandardStandardGoodStandardStandardStandardGoodGoodStandardPoorGoodStandardStandardGoodStandardStandardStandardStandardGoodStandardPoorStandardPoorPoorPoorGoodPoorPoorPoorStandardStandardStandardPoorGoodStandardPoorPoorGoodStandardStandardPoorStandardGoodStandardStandardPoorGoodStandardStandardPoorStandardStandardStandardPoorStandardPoorStandardStandardGoodStandardStandardStandardGoodStandardGoodPoorStandardStandardStandardPoorStandardStandardStandardPoorPoorPoorGoodPoorPoorPoorStandardStandardStandardPoorPoorGoodStandardGoodStandardStandardPoorPoorGoodStandardPoorPoorPoorPoorPoorStandardPoorPoorGoodPoorStandardPoorGoodGoodStandardGoodPoorStandardGoodStandardStandardStandardPoorPoorPoorGoodPoorStandardPoorStandardStandardStandardGoodGoodStandardPoorGoodStandardStandardPoorStandardPoorStandardGoodStandardStandardStandardStandardGoodPoorStandardStandardStandardStandardPoorStandardGoodPoorStandardGoodPoorPoorStandardGoodPoorStandardStandardGoodStandardPoorPoorPoorPoorStandardStandardStandardStandardPoorPoorStandardPoorStandardStandardStandardPoorStandardStandardStandardStandardStandardPoorGoodStandardStandardPoorPoorStandardGoodPoorStandardStandardStandardGoodStandardGoodPoorStandardGoodStandardPoorPoorStandardPoorPoorPoorStandardPoorGoodPoorStandardStandardPoorGoodStandardStandardStandardStandardPoorPoorStandardGoodStandardStandardStandardPoorStandardStandardPoorStandardPoorPoorPoorStandardStandardStandardStandardPoorStandardPoorStandardStandardStandardStandardStandardStandardPoorPoorStandardStandardPoorPoorGoodGoodStandardPoorPoorStandardStandardPoorStandardStandardStandardStandardPoorStandardPoorPoorStandardPoorStandardPoorPoorStandardGoodPoorStandardStandardStandardGoodStandardStandardPoorStandardStandardStandardGoodStandardStandardStandardStandardStandardGoodStandardStandardGoodStandardStandardPoorGoodStandardStandardPoorGoodGoodStandardStandardStandardStandardStandardStandardPoorPoorStandardStandardStandardPoorStandardGoodStandardPoorStandardGoodPoorStandardStandardGoodStandardPoorStandardPoorStandardStandardPoorGoodPoorGoodStandardStandardStandardStandardPoorPoorPoorPoorStandardPoorStandardStandardPoorPoorStandardPoorGoodStandardPoorStandardGoodStandardStandardGoodStandardStandardPoorStandardStandardStandardStandardStandardStandardStandardPoorGoodPoorStandardPoorGoodStandardStandardStandardStandardPoorStandardPoorStandardPoorPoorStandardStandardPoorPoorGoodStandardGoodPoorGoodStandardStandardStandardStandardStandardStandardStandardStandardPoorPoorPoorGoodPoorStandardStandardStandardStandardStandardStandardStandardPoorGoodStandardPoorPoorGoodStandardStandardStandardPoorGoodStandardStandardPoorStandardGoodStandardStandardPoorStandardPoorStandardPoorStandardStandardGoodPoorPoorStandardStandardStandardGoodGoodGoodStandardStandardStandardGoodGoodPoorStandardPoorPoorPoorStandardPoorPoorStandardStandardStandardStandardPoorGoodPoorGoodStandardPoorStandardGoodPoorPoorPoorGoodPoorPoorGoodStandardGoodStandardStandardGoodPoorGoodStandardPoorPoorStandardStandardPoorPoorStandardStandardStandardStandardStandardStandardGoodStandardStandardStandardStandardPoorGoodStandardGoodGoodStandardStandardGoodStandardPoorStandardStandardStandardStandardStandardPoorPoorStandardPoorGoodStandardStandardPoorGoodStandardStandardStandardStandardStandardStandardGoodStandardStandardStandardStandardPoorStandardGoodStandardStandardGoodStandardStandardStandardStandardPoorStandardGoodPoorPoorGoodStandardGoodPoorGoodStandardStandardPoorStandardStandardStandardGoodGoodPoorStandardPoorGoodStandardPoorGoodStandardGoodStandardStandardPoorPoorStandardStandardPoorStandardStandardStandardStandardStandardPoorGoodStandardGoodPoorPoorStandardPoorPoorStandardStandardGoodStandardPoorGoodStandardStandardStandardStandardGoodStandardStandardStandardPoorGoodStandardStandardStandardPoorPoorStandardPoorPoorStandardPoorStandardGoodPoorStandardStandardPoorStandardStandardStandardPoorStandardStandardPoorGoodStandardStandardStandardGoodStandardGoodPoorPoorGoodStandardPoorStandardGoodPoorStandardStandardPoorPoorPoorGoodStandardStandardGoodStandardPoorPoorStandardGoodPoorStandardPoorStandardPoorStandardStandardStandardPoorStandardStandardGoodStandardPoorStandardPoorGoodPoorGoodPoorPoorStandardPoorPoorStandardStandardGoodStandardGoodStandardPoorPoorStandardGoodStandardStandardGoodStandardPoorStandardStandardStandardGoodStandardStandardStandardPoorStandardStandardStandardPoorStandardPoorPoorGoodGoodStandardPoorPoorPoorStandardStandardStandardPoorPoorStandardPoorStandardPoorStandardStandardGoodStandardPoorStandardPoorGoodPoorStandardPoorPoorPoorStandardPoorStandardPoorStandardStandardPoorStandardStandardStandardStandardStandardStandardPoorStandardGoodPoorStandardStandardStandardGoodStandardPoorStandardGoodPoorStandardStandardStandardStandardStandardStandardStandardPoorGoodGoodStandardStandardPoorStandardPoorStandardGoodPoorStandardPoorPoorPoorStandardPoorPoorStandardPoorStandardStandardGoodStandardStandardGoodStandardStandardGoodGoodGoodPoorStandardGoodStandardStandardStandardStandardStandardStandardStandardGoodStandardPoorGoodStandardPoorPoorStandardStandardPoorStandardPoorStandardGoodStandardGoodStandardPoorStandardStandardGoodStandardPoorPoorStandardStandardGoodStandardGoodStandardGoodPoorPoorPoorGoodStandardPoorGoodStandardStandardPoorStandardStandardPoorStandardGoodPoorStandardGoodPoorStandardStandardPoorGoodStandardPoorStandardGoodStandardPoorGoodGoodStandardPoorStandardStandardStandardPoorStandardStandardStandardStandardPoorGoodPoorStandardGoodGoodPoorPoorStandardPoorStandardStandardStandardStandardStandardStandardPoorStandardPoorPoorPoorStandardStandardGoodPoorStandardGoodStandardPoorPoorStandardStandardPoorGoodPoorGoodStandardGoodPoorPoorGoodPoorPoorPoorPoorGoodPoorStandardStandardStandardPoorStandardPoorStandardStandardPoorStandardPoorStandardStandardPoorStandardStandardStandardGoodGoodPoorStandardPoorStandardStandardPoorPoorGoodGoodPoorStandardStandardPoorStandardPoorPoorStandardStandardPoorStandardStandardStandardPoorStandardStandardPoorPoorPoorStandardGoodStandardGoodStandardPoorStandardGoodGoodStandardPoorPoorStandardStandardPoorStandardStandardGoodGoodStandardPoorPoorPoorPoorStandardStandardPoorStandardStandardGoodStandardPoorStandardPoorPoorGoodGoodStandardStandardStandardStandardPoorStandardPoorStandardStandardPoorStandardStandardStandardPoorStandardStandardStandardStandardStandardPoorStandardPoorGoodPoorStandardStandardPoorStandardStandardGoodGoodStandardStandardStandardGoodStandardPoorGoodStandardPoorStandardStandardStandardStandardStandardPoorPoorStandardStandardPoorGoodStandardStandardGoodPoorGoodStandardPoorPoorStandardStandardPoorStandardGoodStandardPoorStandardStandardPoorPoorStandardPoorStandardPoorPoorStandardPoorStandardPoorGoodStandardPoorGoodGoodStandardStandardGoodPoorPoorStandardPoorStandardStandardPoorStandardPoorStandardPoorStandardStandardStandardStandardStandardStandardPoorPoorStandardStandardStandardGoodPoorStandardStandardStandardPoorPoorPoorStandardStandardPoorStandardGoodGoodStandardStandardPoorGoodStandardStandardStandardStandardStandardStandardStandardStandardStandardPoorStandardPoorStandardPoorStandardPoorStandardStandardStandardStandardStandardStandardGoodStandardPoorStandardStandardStandardGoodStandardPoorStandardPoorStandardStandardStandardStandardGoodStandardGoodStandardStandardPoorPoorStandardPoorStandardPoorStandardStandardPoorPoorGoodPoorPoorPoorStandardStandardPoorPoorGoodStandardStandardPoorPoorPoorStandardGoodPoorGoodStandardStandardPoorStandardStandardStandardGoodStandardStandardPoorPoorStandardGoodStandardPoorStandardPoorGoodStandardStandardStandardGoodStandardGoodGoodGoodStandardPoorStandardStandardStandardStandardStandardPoorStandardStandardStandardStandardStandardStandardPoorStandardStandardPoorPoorPoorStandardStandardPoorStandardPoorStandardStandardPoorGoodPoorStandardPoorPoorStandardGoodPoorStandardPoorStandardStandardPoorGoodStandardStandardGoodStandardStandardStandardPoorStandardGoodStandardStandardGoodStandardStandardPoorStandardStandardStandardStandardStandardPoorStandardGoodGoodStandardStandardGoodGoodGoodStandardStandardGoodStandardGoodStandardStandardStandardPoorGoodStandardStandardStandardGoodStandardStandardPoorGoodGoodPoorStandardPoorStandardStandardPoorStandardStandardStandardStandardStandardPoorPoorPoorPoorStandardStandardStandardPoorStandardPoorStandardStandardGoodStandardStandardGoodPoorPoorGoodPoorPoorGoodPoorPoorStandardStandardPoorGoodPoorStandardGoodStandardStandardPoorGoodPoorStandardStandardStandardGoodPoorStandardGoodPoorPoorStandardGoodPoorPoorStandardStandardPoorStandardPoorStandardPoorGoodStandardStandardGoodStandardPoorPoorPoorPoorStandardGoodPoorStandardPoorPoorStandardStandardGoodPoorStandardStandardPoorStandardStandardPoorPoorPoorStandardPoorGoodStandardPoorStandardStandardStandardStandardStandardStandardGoodStandardStandardPoorGoodStandardPoorGoodStandardGoodStandardStandardGoodPoorStandardGoodGoodPoorPoorPoorStandardPoorPoorStandardStandardPoorStandardPoorStandardPoorStandardGoodPoorStandardGoodPoorStandardStandardGoodStandardStandardStandardStandardPoorPoorStandardStandardStandardStandardStandardGoodGoodStandardGoodStandardStandardStandardStandardStandardStandardStandardPoorStandardStandardPoorGoodPoorPoorGoodStandardStandardPoorPoorGoodPoorStandardStandardPoorStandardStandardPoorStandardStandardPoorPoorStandardPoorStandardStandardPoorPoorStandardStandardStandardGoodPoorStandardStandardStandardPoorPoorGoodGoodGoodStandardPoorPoorStandardStandardPoorPoorStandardGoodStandardStandardStandardPoorStandardStandardStandardPoorGoodStandardStandardStandardPoorStandardPoorPoorGoodStandardStandardGoodStandardStandardGoodStandardPoorGoodPoorGoodStandardStandardGoodGoodStandardGoodStandardGoodGoodStandardGoodGoodStandardStandardPoorPoorStandardPoorStandardStandardPoorGoodStandardStandardGoodStandardPoorStandardPoorPoorPoorPoorStandardStandardGoodGoodGoodStandardPoorStandardStandardStandardPoorGoodGoodPoorStandardStandardStandardPoorPoorGoodStandardStandardPoorStandardStandardGoodStandardStandardStandardStandardPoorStandardStandardStandardStandardStandardPoorStandardStandardStandardStandardPoorStandardStandardStandardPoorPoorGoodStandardStandardStandardStandardGoodStandardGoodPoorStandardGoodGoodPoorGoodGoodGoodGoodStandardStandardStandardPoorStandardStandardStandardPoorPoorPoorPoorStandardGoodStandardGoodStandardGoodGoodGoodStandardStandardPoorStandardStandardPoorStandardPoorPoorPoorStandardPoorGoodStandardStandardGoodStandardGoodStandardPoorStandardStandardStandardStandardPoorStandardPoorPoorPoorStandardStandardStandardPoorStandardStandardStandardPoorPoorPoorGoodPoorPoorStandardStandardPoorStandardPoorStandardStandardGoodStandardPoorStandardStandardStandardStandardStandardStandardStandardStandardStandardPoorStandardStandardStandardStandardStandardPoorGoodPoorStandardPoorStandardStandardStandardGoodStandardGoodStandardStandardStandardPoorPoorStandardStandardStandardStandardStandardPoorStandardPoorStandardPoorStandardStandardStandardPoorStandardGoodStandardStandardStandardStandardStandardStandardStandardStandardStandardPoorGoodPoorStandardGoodStandardPoorPoorGoodStandardPoorStandardPoorStandardGoodGoodStandardStandardStandardPoorPoorGoodStandardStandardStandardGoodPoorGoodPoorGoodStandardGoodStandardStandardStandardGoodPoorPoorStandardStandardStandardStandardStandardStandardPoorStandardStandardStandardPoorPoorStandardStandardStandardGoodStandardStandardStandardStandardGoodPoorStandardStandardStandardStandardPoorStandardPoorPoorStandardStandardStandardGoodStandardStandardGoodPoorStandardPoorStandardPoorStandardStandardStandardStandardStandardStandardGoodPoorPoorStandardStandardPoorStandardStandardStandardStandardGoodStandardStandardStandardStandardGoodStandardStandardStandardPoorGoodStandardPoorGoodStandardStandardStandardStandardPoorGoodStandardPoorStandardPoorPoorPoorGoodStandardGoodStandardGoodStandardPoorGoodStandardStandardPoorStandardPoorGoodPoorStandardPoorStandardPoorGoodStandardPoorStandardPoorStandardStandardGoodPoorGoodPoorStandardPoorPoorStandardPoorPoorGoodGoodStandardStandardStandardStandardGoodPoorStandardGoodStandardStandardStandardPoorStandardStandardPoorStandardStandardStandardStandardPoorGoodGoodStandardGoodStandardPoorStandardGoodStandardPoorStandardStandardPoorGoodPoorGoodStandardPoorPoorStandardStandardPoorStandardPoorStandardPoorGoodGoodGoodStandardStandardGoodPoorPoorStandardPoorGoodStandardGoodStandardPoorGoodGoodStandardPoorStandardPoorStandardPoorPoorPoorStandardStandardPoorPoorStandardPoorGoodGoodGoodPoorStandardStandardStandardStandardGoodStandardGoodStandardPoorPoorStandardGoodStandardStandardStandardStandardGoodStandardPoorPoorGoodStandardPoorPoorStandardPoorStandardStandardStandardGoodGoodStandardPoorPoorGoodStandardStandardStandardStandardPoorStandardPoorStandardStandardStandardStandardPoorStandardStandardStandardStandardGoodPoorPoorStandardStandardPoorPoorStandardPoorStandardStandardStandardStandardPoorStandardGoodStandardStandardGoodPoorGoodStandardStandardGoodGoodPoorStandardStandardStandardGoodStandardPoorStandardPoorPoorStandardStandardStandardStandardGoodPoorPoorPoorStandardStandardGoodStandardStandardStandardStandardGoodStandardStandardStandardStandardGoodPoorPoorGoodPoorStandardStandardStandardStandardGoodPoorPoorPoorGoodGoodStandardGoodStandardStandardPoorStandardPoorPoorStandardStandardStandardPoorStandardPoorGoodPoorStandardPoorGoodStandardStandardStandardPoorStandardPoorPoorStandardGoodPoorPoorStandardStandardStandardStandardGoodPoorGoodStandardPoorStandardStandardPoorPoorStandardStandardPoorGoodGoodPoorStandardStandardStandardStandardStandardStandardPoorStandardGoodStandardStandardStandardGoodStandardPoorPoorStandardStandardStandardStandardStandardStandardStandardStandardStandardStandardGoodPoorStandardGoodStandardStandardStandardPoorStandardGoodStandardStandardPoorPoorPoorStandardStandardStandardPoorPoorStandardPoorPoorPoorStandardGoodGoodStandardPoorStandardStandardStandardStandardStandardStandardStandardGoodStandardGoodStandardStandardStandardStandardStandardStandardStandardPoorStandardStandardStandardGoodStandardStandardStandardStandardStandardGoodStandardStandardGoodGoodStandardStandardGoodStandardStandardGoodStandardStandardStandardStandardStandardGoodStandardStandardGoodStandardStandardGoodGoodPoorGoodPoorStandardPoorStandardStandardStandardStandardGoodGoodStandardGoodStandardStandardPoorGoodStandardStandardStandardStandardPoorPoorPoorStandardGoodPoorStandardStandardGoodStandardStandardPoorStandardStandardStandardStandardStandardStandardPoorPoorGoodPoorPoorStandardPoorStandardPoorStandardStandardStandardPoorPoorStandardPoorStandardStandardStandardStandardPoorGoodPoorGoodGoodPoorPoorStandardGoodStandardStandardGoodPoorStandardStandardStandardGoodGoodGoodStandardPoorStandardGoodStandardPoorStandardStandardStandardStandardGoodPoorPoorStandardPoorPoorStandardStandardGoodGoodStandardStandardGoodGoodStandardGoodPoorGoodPoorStandardStandardStandardGoodPoorGoodGoodPoorStandardGoodGoodPoorPoorPoorStandardPoorPoorStandardStandardPoorGoodStandardPoorStandardStandardStandardStandardPoorStandardStandardPoorGoodStandardStandardPoorStandardPoorStandardStandardGoodStandardStandardStandardGoodPoorPoorStandardStandardGoodPoorStandardPoorStandardPoorStandardStandardPoorStandardStandardGoodGoodGoodPoorGoodStandardGoodGoodStandardGoodStandardStandardStandardPoorStandardGoodPoorGoodStandardStandardPoorGoodStandardStandardPoorPoorStandardStandardPoorStandardStandardStandardPoorGoodGoodStandardStandardStandardStandardStandardStandardStandardStandardStandardStandardPoorPoorStandardPoorGoodStandardPoorStandardPoorStandardGoodStandardGoodStandardStandardGoodGoodStandardStandardGoodPoorStandardStandardStandardStandardGoodGoodPoorStandardPoorStandardStandardStandardPoorStandardGoodStandardPoorStandardGoodGoodPoorStandardPoorPoorStandardStandardGoodStandardStandardStandardStandardStandardGoodPoorStandardPoorPoorStandardGoodStandardStandardPoorStandardGoodPoorStandardGoodStandardPoorPoorStandardStandardGoodStandardPoorGoodStandardStandardStandardStandardStandardStandardStandardPoorPoorStandardStandardGoodStandardPoorStandardStandardStandardStandardPoorStandardGoodStandardPoorStandardPoorStandardPoorPoorGoodStandardPoorStandardStandardPoorStandardPoorGoodStandardPoorGoodStandardGoodStandardStandardStandardStandardStandardPoorPoorStandardStandardPoorPoorStandardStandardStandardPoorStandardPoorStandardPoorPoorPoorPoorPoorPoorStandardPoorGoodStandardStandardStandardStandardStandardStandardStandardGoodGoodStandardStandardStandardStandardStandardGoodStandardPoorGoodStandardStandardPoorStandardGoodGoodGoodPoorStandardPoorPoorStandardStandardStandardStandardPoorStandardStandardPoorStandardStandardGoodPoorGoodStandardStandardPoorStandardStandardGoodGoodStandardStandardGoodPoorGoodGoodStandardGoodStandardStandardGoodStandardStandardStandardGoodStandardPoorStandardGoodStandardPoorStandardGoodStandardStandardStandardGoodStandardStandardStandardStandardStandardGoodStandardStandardGoodPoorStandardStandardGoodPoorPoorGoodGoodStandardGoodPoorPoorGoodGoodStandardStandardPoorPoorPoorStandardGoodGoodGoodStandardStandardPoorStandardStandardStandardStandardPoorStandardStandardStandardStandardStandardGoodStandardGoodStandardGoodStandardStandardStandardPoorGoodGoodStandardStandardStandardPoorStandardGoodStandardStandardStandardStandardStandardPoorPoorPoorStandardStandardGoodStandardGoodPoorPoorPoorStandardStandardStandardPoorGoodPoorGoodPoorStandardStandardStandardGoodStandardStandardPoorGoodGoodPoorStandardGoodGoodGoodPoorStandardGoodPoorStandardStandardPoorPoorStandardStandardPoorStandardPoorStandardGoodStandardStandardStandardStandardGoodStandardStandardPoorStandardStandardGoodStandardStandardStandardPoorStandardStandardStandardStandardGoodStandardStandardPoorGoodStandardGoodGoodStandardStandardPoorStandardPoorStandardStandardPoorStandardPoorStandardStandardStandardGoodStandardPoorPoorPoorPoorStandardStandardStandardStandardStandardPoorStandardStandardGoodStandardStandardStandardStandardStandardStandardPoorPoorStandardGoodPoorStandardPoorGoodStandardStandardGoodStandardGoodGoodPoorStandardStandardStandardStandardPoorStandardStandardStandardStandardStandardStandardStandardGoodPoorStandardStandardPoorStandardStandardStandardPoorGoodPoorStandardStandardGoodStandardPoorPoorPoorPoorPoorStandardStandardPoorStandardGoodStandardGoodPoorStandardGoodStandardStandardStandardStandardPoorPoorStandardStandardStandardGoodStandardStandardPoorStandardStandardPoorStandardStandardPoorPoorStandardStandardStandardStandardStandardStandardPoorGoodStandardPoorPoorStandardPoorStandardPoorPoorGoodStandardGoodGoodPoorPoorStandardPoorPoorStandardPoorPoorStandardPoorStandardPoorStandardStandardPoorGoodPoorGoodPoorStandardPoorPoorStandardStandardPoorGoodPoorGoodStandardStandardPoorStandardPoorPoorPoorGoodGoodStandardGoodStandardStandardGoodStandardPoorGoodGoodStandardPoorStandardStandardStandardPoorStandardGoodPoorPoorStandardPoorStandardGoodPoorStandardStandardStandardStandardStandardStandardStandardStandardStandardPoorStandardGoodStandardPoorPoorGoodPoorPoorStandardStandardGoodPoorStandardStandardPoorPoorStandardStandardStandardStandardGoodStandardStandardStandardStandardStandardPoorStandardStandardGoodGoodStandardStandardStandardStandardStandardStandardGoodGoodPoorStandardPoorStandardStandardPoorGoodPoorStandardPoorStandardStandardStandardStandardStandardStandardStandardPoorGoodPoorStandardPoorStandardGoodGoodPoorStandardStandardGoodGoodStandardPoorPoorPoorStandardPoorStandardGoodStandardPoorStandardGoodStandardStandardPoorPoorStandardStandardStandardStandardStandardGoodStandardPoorStandardStandardGoodStandardStandardStandardGoodStandardStandardGoodStandardPoorStandardPoorStandardPoorPoorGoodGoodStandardStandardPoorStandardStandardStandardStandardStandardStandardGoodGoodPoorGoodStandardPoorPoorPoorStandardStandardPoorPoorPoorStandardStandardStandardPoorGoodPoorPoorPoorPoorStandardPoorGoodStandardStandardPoorPoorPoorStandardPoorPoorStandardStandardStandardGoodPoorStandardGoodGoodStandardStandardPoorStandardStandardStandardStandardPoorGoodStandardStandardStandardStandardPoorStandardGoodGoodGoodPoorStandardStandardGoodStandardGoodGoodPoorStandardPoorGoodPoorPoorGoodGoodPoorPoorPoorStandardStandardPoorPoorStandardStandardStandardStandardPoorPoorPoorStandardGoodGoodGoodGoodStandardPoorStandardPoorStandardStandardStandardStandardStandardGoodPoorStandardPoorGoodStandardPoorStandardStandardPoorPoorStandardGoodStandardStandardPoorGoodStandardStandardGoodPoorStandardStandardStandardStandardPoorStandardGoodPoorPoorStandardStandardStandardPoorStandardStandardStandardGoodStandardStandardPoorGoodStandardGoodStandardStandardStandardPoorGoodPoorStandardPoorStandardPoorPoorStandardGoodPoorStandardStandardGoodGoodPoorStandardPoorPoorStandardStandardPoorPoorStandardStandardPoorStandardStandardStandardStandardStandardPoorStandardPoorStandardStandardGoodStandardPoorStandardPoorPoorGoodStandardStandardStandardGoodStandardPoorGoodStandardStandardStandardStandardStandardPoorGoodGoodGoodStandardStandardStandardPoorPoorStandardGoodStandardGoodPoorStandardPoorGoodStandardStandardGoodStandardPoorPoorStandardPoorPoorStandardStandardGoodPoorStandardStandardStandardStandardStandardStandardStandardStandardStandardGoodStandardStandardStandardGoodGoodStandardStandardStandardPoorStandardStandardPoorGoodPoorStandardStandardStandardGoodGoodPoorStandardStandardPoorStandardPoorStandardPoorStandardPoorStandardPoorStandardStandardStandardStandardStandardStandardGoodGoodStandardGoodPoorPoorPoorPoorStandardPoorPoorPoorPoorPoorGoodGoodStandardPoorStandardStandardPoorPoorPoorPoorGoodStandardStandardStandardStandardStandardPoorStandardStandardPoorStandardStandardStandardStandardPoorGoodStandardPoorStandardStandardPoorStandardStandardStandardStandardGoodPoorStandardPoorPoorGoodPoorStandardStandardStandardGoodGoodStandardStandardGoodStandardStandardGoodPoorStandardStandardGoodPoorStandardStandardStandardStandardPoorStandardPoorPoorStandardStandardStandardStandardStandardGoodGoodStandardGoodPoorPoorStandardStandardStandardStandardPoorGoodStandardStandardPoorPoorPoorStandardPoorGoodStandardPoorStandardStandardPoorPoorStandardGoodPoorStandardGoodStandardPoorStandardStandardStandardStandardStandardStandardPoorPoorGoodStandardPoorStandardStandardStandardPoorPoorStandardStandardStandardStandardStandardStandardStandardGoodStandardStandardStandardStandardGoodPoorStandardPoorPoorPoorStandardGoodGoodPoorPoorStandardPoorStandardPoorStandardGoodPoorStandardGoodStandardPoorPoorPoorGoodPoorStandardStandardStandardStandardGoodGoodStandardStandardStandardStandardStandardPoorPoorGoodStandardPoorPoorStandardStandardPoorStandardPoorStandardGoodPoorStandardStandardGoodStandardStandardStandardPoorPoorGoodStandardStandardPoorGoodPoorStandardStandardPoorGoodStandardGoodStandardPoorPoorStandardGoodStandardStandardStandardStandardPoorStandardStandardStandardStandardStandardStandardStandardPoorGoodPoorStandardPoorStandardStandardStandardGoodPoorPoorStandardStandardGoodStandardStandardStandardGoodStandardStandardStandardStandardGoodStandardStandardStandardStandardStandardGoodStandardGoodPoorGoodPoorPoorPoorStandardStandardStandardStandardStandardGoodStandardStandardPoorStandardStandardStandardGoodStandardPoorStandardPoorPoorStandardStandardGoodGoodGoodGoodStandardStandardStandardPoorGoodStandardStandardGoodStandardStandardPoorStandardStandardStandardGoodStandardStandardPoorPoorStandardStandardStandardStandardStandardStandardStandardPoorStandardStandardStandardStandardStandardStandardGoodStandardStandardGoodStandardPoorStandardStandardPoorStandardStandardStandardGoodGoodStandardPoor' to numeric",
      "\nThe above exception was the direct cause of the following exception:\n",
      "\u001b[1;31mTypeError\u001b[0m                                 Traceback (most recent call last)",
      "Cell \u001b[1;32mIn[32], line 2\u001b[0m\n\u001b[0;32m      1\u001b[0m \u001b[38;5;66;03m# Calculate mean credit score for each month\u001b[39;00m\n\u001b[1;32m----> 2\u001b[0m month_mean_scores \u001b[38;5;241m=\u001b[39m \u001b[43mtrain\u001b[49m\u001b[38;5;241;43m.\u001b[39;49m\u001b[43mgroupby\u001b[49m\u001b[43m(\u001b[49m\u001b[38;5;124;43m'\u001b[39;49m\u001b[38;5;124;43mMonth\u001b[39;49m\u001b[38;5;124;43m'\u001b[39;49m\u001b[43m)\u001b[49m\u001b[43m[\u001b[49m\u001b[38;5;124;43m'\u001b[39;49m\u001b[38;5;124;43mCredit_Score\u001b[39;49m\u001b[38;5;124;43m'\u001b[39;49m\u001b[43m]\u001b[49m\u001b[38;5;241;43m.\u001b[39;49m\u001b[43mmean\u001b[49m\u001b[43m(\u001b[49m\u001b[43m)\u001b[49m\n\u001b[0;32m      3\u001b[0m \u001b[38;5;28mprint\u001b[39m(month_mean_scores)\n",
      "File \u001b[1;32mc:\\Users\\kb\\anaconda3\\envs\\test-env\\lib\\site-packages\\pandas\\core\\groupby\\groupby.py:2452\u001b[0m, in \u001b[0;36mGroupBy.mean\u001b[1;34m(self, numeric_only, engine, engine_kwargs)\u001b[0m\n\u001b[0;32m   2445\u001b[0m     \u001b[38;5;28;01mreturn\u001b[39;00m \u001b[38;5;28mself\u001b[39m\u001b[38;5;241m.\u001b[39m_numba_agg_general(\n\u001b[0;32m   2446\u001b[0m         grouped_mean,\n\u001b[0;32m   2447\u001b[0m         executor\u001b[38;5;241m.\u001b[39mfloat_dtype_mapping,\n\u001b[0;32m   2448\u001b[0m         engine_kwargs,\n\u001b[0;32m   2449\u001b[0m         min_periods\u001b[38;5;241m=\u001b[39m\u001b[38;5;241m0\u001b[39m,\n\u001b[0;32m   2450\u001b[0m     )\n\u001b[0;32m   2451\u001b[0m \u001b[38;5;28;01melse\u001b[39;00m:\n\u001b[1;32m-> 2452\u001b[0m     result \u001b[38;5;241m=\u001b[39m \u001b[38;5;28;43mself\u001b[39;49m\u001b[38;5;241;43m.\u001b[39;49m\u001b[43m_cython_agg_general\u001b[49m\u001b[43m(\u001b[49m\n\u001b[0;32m   2453\u001b[0m \u001b[43m        \u001b[49m\u001b[38;5;124;43m\"\u001b[39;49m\u001b[38;5;124;43mmean\u001b[39;49m\u001b[38;5;124;43m\"\u001b[39;49m\u001b[43m,\u001b[49m\n\u001b[0;32m   2454\u001b[0m \u001b[43m        \u001b[49m\u001b[43malt\u001b[49m\u001b[38;5;241;43m=\u001b[39;49m\u001b[38;5;28;43;01mlambda\u001b[39;49;00m\u001b[43m \u001b[49m\u001b[43mx\u001b[49m\u001b[43m:\u001b[49m\u001b[43m \u001b[49m\u001b[43mSeries\u001b[49m\u001b[43m(\u001b[49m\u001b[43mx\u001b[49m\u001b[43m,\u001b[49m\u001b[43m \u001b[49m\u001b[43mcopy\u001b[49m\u001b[38;5;241;43m=\u001b[39;49m\u001b[38;5;28;43;01mFalse\u001b[39;49;00m\u001b[43m)\u001b[49m\u001b[38;5;241;43m.\u001b[39;49m\u001b[43mmean\u001b[49m\u001b[43m(\u001b[49m\u001b[43mnumeric_only\u001b[49m\u001b[38;5;241;43m=\u001b[39;49m\u001b[43mnumeric_only\u001b[49m\u001b[43m)\u001b[49m\u001b[43m,\u001b[49m\n\u001b[0;32m   2455\u001b[0m \u001b[43m        \u001b[49m\u001b[43mnumeric_only\u001b[49m\u001b[38;5;241;43m=\u001b[39;49m\u001b[43mnumeric_only\u001b[49m\u001b[43m,\u001b[49m\n\u001b[0;32m   2456\u001b[0m \u001b[43m    \u001b[49m\u001b[43m)\u001b[49m\n\u001b[0;32m   2457\u001b[0m     \u001b[38;5;28;01mreturn\u001b[39;00m result\u001b[38;5;241m.\u001b[39m__finalize__(\u001b[38;5;28mself\u001b[39m\u001b[38;5;241m.\u001b[39mobj, method\u001b[38;5;241m=\u001b[39m\u001b[38;5;124m\"\u001b[39m\u001b[38;5;124mgroupby\u001b[39m\u001b[38;5;124m\"\u001b[39m)\n",
      "File \u001b[1;32mc:\\Users\\kb\\anaconda3\\envs\\test-env\\lib\\site-packages\\pandas\\core\\groupby\\groupby.py:1998\u001b[0m, in \u001b[0;36mGroupBy._cython_agg_general\u001b[1;34m(self, how, alt, numeric_only, min_count, **kwargs)\u001b[0m\n\u001b[0;32m   1995\u001b[0m     result \u001b[38;5;241m=\u001b[39m \u001b[38;5;28mself\u001b[39m\u001b[38;5;241m.\u001b[39m_agg_py_fallback(how, values, ndim\u001b[38;5;241m=\u001b[39mdata\u001b[38;5;241m.\u001b[39mndim, alt\u001b[38;5;241m=\u001b[39malt)\n\u001b[0;32m   1996\u001b[0m     \u001b[38;5;28;01mreturn\u001b[39;00m result\n\u001b[1;32m-> 1998\u001b[0m new_mgr \u001b[38;5;241m=\u001b[39m \u001b[43mdata\u001b[49m\u001b[38;5;241;43m.\u001b[39;49m\u001b[43mgrouped_reduce\u001b[49m\u001b[43m(\u001b[49m\u001b[43marray_func\u001b[49m\u001b[43m)\u001b[49m\n\u001b[0;32m   1999\u001b[0m res \u001b[38;5;241m=\u001b[39m \u001b[38;5;28mself\u001b[39m\u001b[38;5;241m.\u001b[39m_wrap_agged_manager(new_mgr)\n\u001b[0;32m   2000\u001b[0m \u001b[38;5;28;01mif\u001b[39;00m how \u001b[38;5;129;01min\u001b[39;00m [\u001b[38;5;124m\"\u001b[39m\u001b[38;5;124midxmin\u001b[39m\u001b[38;5;124m\"\u001b[39m, \u001b[38;5;124m\"\u001b[39m\u001b[38;5;124midxmax\u001b[39m\u001b[38;5;124m\"\u001b[39m]:\n",
      "File \u001b[1;32mc:\\Users\\kb\\anaconda3\\envs\\test-env\\lib\\site-packages\\pandas\\core\\internals\\base.py:367\u001b[0m, in \u001b[0;36mSingleDataManager.grouped_reduce\u001b[1;34m(self, func)\u001b[0m\n\u001b[0;32m    365\u001b[0m \u001b[38;5;28;01mdef\u001b[39;00m \u001b[38;5;21mgrouped_reduce\u001b[39m(\u001b[38;5;28mself\u001b[39m, func):\n\u001b[0;32m    366\u001b[0m     arr \u001b[38;5;241m=\u001b[39m \u001b[38;5;28mself\u001b[39m\u001b[38;5;241m.\u001b[39marray\n\u001b[1;32m--> 367\u001b[0m     res \u001b[38;5;241m=\u001b[39m \u001b[43mfunc\u001b[49m\u001b[43m(\u001b[49m\u001b[43marr\u001b[49m\u001b[43m)\u001b[49m\n\u001b[0;32m    368\u001b[0m     index \u001b[38;5;241m=\u001b[39m default_index(\u001b[38;5;28mlen\u001b[39m(res))\n\u001b[0;32m    370\u001b[0m     mgr \u001b[38;5;241m=\u001b[39m \u001b[38;5;28mtype\u001b[39m(\u001b[38;5;28mself\u001b[39m)\u001b[38;5;241m.\u001b[39mfrom_array(res, index)\n",
      "File \u001b[1;32mc:\\Users\\kb\\anaconda3\\envs\\test-env\\lib\\site-packages\\pandas\\core\\groupby\\groupby.py:1995\u001b[0m, in \u001b[0;36mGroupBy._cython_agg_general.<locals>.array_func\u001b[1;34m(values)\u001b[0m\n\u001b[0;32m   1992\u001b[0m     \u001b[38;5;28;01mreturn\u001b[39;00m result\n\u001b[0;32m   1994\u001b[0m \u001b[38;5;28;01massert\u001b[39;00m alt \u001b[38;5;129;01mis\u001b[39;00m \u001b[38;5;129;01mnot\u001b[39;00m \u001b[38;5;28;01mNone\u001b[39;00m\n\u001b[1;32m-> 1995\u001b[0m result \u001b[38;5;241m=\u001b[39m \u001b[38;5;28;43mself\u001b[39;49m\u001b[38;5;241;43m.\u001b[39;49m\u001b[43m_agg_py_fallback\u001b[49m\u001b[43m(\u001b[49m\u001b[43mhow\u001b[49m\u001b[43m,\u001b[49m\u001b[43m \u001b[49m\u001b[43mvalues\u001b[49m\u001b[43m,\u001b[49m\u001b[43m \u001b[49m\u001b[43mndim\u001b[49m\u001b[38;5;241;43m=\u001b[39;49m\u001b[43mdata\u001b[49m\u001b[38;5;241;43m.\u001b[39;49m\u001b[43mndim\u001b[49m\u001b[43m,\u001b[49m\u001b[43m \u001b[49m\u001b[43malt\u001b[49m\u001b[38;5;241;43m=\u001b[39;49m\u001b[43malt\u001b[49m\u001b[43m)\u001b[49m\n\u001b[0;32m   1996\u001b[0m \u001b[38;5;28;01mreturn\u001b[39;00m result\n",
      "File \u001b[1;32mc:\\Users\\kb\\anaconda3\\envs\\test-env\\lib\\site-packages\\pandas\\core\\groupby\\groupby.py:1946\u001b[0m, in \u001b[0;36mGroupBy._agg_py_fallback\u001b[1;34m(self, how, values, ndim, alt)\u001b[0m\n\u001b[0;32m   1944\u001b[0m     msg \u001b[38;5;241m=\u001b[39m \u001b[38;5;124mf\u001b[39m\u001b[38;5;124m\"\u001b[39m\u001b[38;5;124magg function failed [how->\u001b[39m\u001b[38;5;132;01m{\u001b[39;00mhow\u001b[38;5;132;01m}\u001b[39;00m\u001b[38;5;124m,dtype->\u001b[39m\u001b[38;5;132;01m{\u001b[39;00mser\u001b[38;5;241m.\u001b[39mdtype\u001b[38;5;132;01m}\u001b[39;00m\u001b[38;5;124m]\u001b[39m\u001b[38;5;124m\"\u001b[39m\n\u001b[0;32m   1945\u001b[0m     \u001b[38;5;66;03m# preserve the kind of exception that raised\u001b[39;00m\n\u001b[1;32m-> 1946\u001b[0m     \u001b[38;5;28;01mraise\u001b[39;00m \u001b[38;5;28mtype\u001b[39m(err)(msg) \u001b[38;5;28;01mfrom\u001b[39;00m \u001b[38;5;21;01merr\u001b[39;00m\n\u001b[0;32m   1948\u001b[0m \u001b[38;5;28;01mif\u001b[39;00m ser\u001b[38;5;241m.\u001b[39mdtype \u001b[38;5;241m==\u001b[39m \u001b[38;5;28mobject\u001b[39m:\n\u001b[0;32m   1949\u001b[0m     res_values \u001b[38;5;241m=\u001b[39m res_values\u001b[38;5;241m.\u001b[39mastype(\u001b[38;5;28mobject\u001b[39m, copy\u001b[38;5;241m=\u001b[39m\u001b[38;5;28;01mFalse\u001b[39;00m)\n",
      "\u001b[1;31mTypeError\u001b[0m: agg function failed [how->mean,dtype->object]"
     ]
    }
   ],
   "source": [
    "# Calculate mean credit score for each month\n",
    "month_mean_scores = train.groupby('Month')['Credit_Score'].mean()\n",
    "print(month_mean_scores)\n"
   ]
  },
  {
   "cell_type": "code",
   "execution_count": null,
   "metadata": {},
   "outputs": [],
   "source": [
    "# now we drop columns ssn, name, "
   ]
  },
  {
   "cell_type": "code",
   "execution_count": 41,
   "metadata": {},
   "outputs": [
    {
     "name": "stdout",
     "output_type": "stream",
     "text": [
      "Age\n",
      "38.0      2833\n",
      "28.0      2829\n",
      "31.0      2806\n",
      "26.0      2792\n",
      "32.0      2749\n",
      "          ... \n",
      "5741.0       1\n",
      "7178.0       1\n",
      "5621.0       1\n",
      "1908.0       1\n",
      "1342.0       1\n",
      "Name: count, Length: 1661, dtype: int64\n",
      "Num_Bank_Accounts\n",
      "6       13001\n",
      "7       12823\n",
      "8       12765\n",
      "4       12186\n",
      "5       12118\n",
      "        ...  \n",
      "1626        1\n",
      "1470        1\n",
      "887         1\n",
      "211         1\n",
      "697         1\n",
      "Name: count, Length: 943, dtype: int64\n",
      "Num_Credit_Card\n",
      "5       18459\n",
      "7       16615\n",
      "6       16559\n",
      "4       14030\n",
      "3       13277\n",
      "        ...  \n",
      "791         1\n",
      "1118        1\n",
      "657         1\n",
      "640         1\n",
      "679         1\n",
      "Name: count, Length: 1179, dtype: int64\n",
      "Num_of_Loan\n",
      "3.0       14386\n",
      "2.0       14250\n",
      "4.0       14016\n",
      "0.0       10380\n",
      "1.0       10083\n",
      "          ...  \n",
      "1444.0        1\n",
      "392.0         1\n",
      "841.0         1\n",
      "1015.0        1\n",
      "966.0         1\n",
      "Name: count, Length: 399, dtype: int64\n",
      "110.93450521244253\n",
      "17.09128\n",
      "22.47443\n",
      "2.780339232263824\n",
      "33.0\n",
      "6.0\n",
      "5.0\n",
      "3.0\n",
      "38.0\n",
      "6\n",
      "5\n",
      "3.0\n"
     ]
    }
   ],
   "source": [
    "# so the data has some realy high unrealeastic values in age, num_of_bank_accounts, num_of_credit_card, num_of_loan\n",
    "# lets get a feel and get a right range for these values\n",
    "# age hi value is 100, low value is 0\n",
    "# num_of_bank_accounts hi value is 10, low value is 1\n",
    "# num_of_credit_card hi value is 10, low value is 1\n",
    "# num_of_loan hi value is 10, low value is 1\n",
    "# annual income lo is 0\n",
    "# monthly inhand salary lo is 0\n",
    "\n",
    "\n",
    "# so now lets create a transformer\n",
    "\n"
   ]
  }
 ],
 "metadata": {
  "kernelspec": {
   "display_name": "test-env",
   "language": "python",
   "name": "python3"
  },
  "language_info": {
   "codemirror_mode": {
    "name": "ipython",
    "version": 3
   },
   "file_extension": ".py",
   "mimetype": "text/x-python",
   "name": "python",
   "nbconvert_exporter": "python",
   "pygments_lexer": "ipython3",
   "version": "3.10.15"
  }
 },
 "nbformat": 4,
 "nbformat_minor": 2
}
